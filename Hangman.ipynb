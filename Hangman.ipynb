{
  "nbformat": 4,
  "nbformat_minor": 0,
  "metadata": {
    "colab": {
      "provenance": [],
      "mount_file_id": "1tt-_J1Zvh713O945DGxlO-8hOIxDeOLr",
      "authorship_tag": "ABX9TyP0b/UGXESb8rZxjKwIuVqx",
      "include_colab_link": true
    },
    "kernelspec": {
      "name": "python3",
      "display_name": "Python 3"
    },
    "language_info": {
      "name": "python"
    }
  },
  "cells": [
    {
      "cell_type": "markdown",
      "metadata": {
        "id": "view-in-github",
        "colab_type": "text"
      },
      "source": [
        "<a href=\"https://colab.research.google.com/github/AntoniSopka97/algorithms-in-python/blob/main/Hangman.ipynb\" target=\"_parent\"><img src=\"https://colab.research.google.com/assets/colab-badge.svg\" alt=\"Open In Colab\"/></a>"
      ]
    },
    {
      "cell_type": "markdown",
      "source": [
        "# Игра в висельницу\n",
        "\n",
        "[link to words](https://github.com/bevacqua/correcthorse/blob/master/wordlist.json)\n",
        "\n"
      ],
      "metadata": {
        "id": "kbYZM2slDtCP"
      }
    },
    {
      "cell_type": "code",
      "source": [
        "import random\n",
        "import json\n",
        "import string\n",
        "\n"
      ],
      "metadata": {
        "id": "MSzao08AD1dg"
      },
      "execution_count": 23,
      "outputs": []
    },
    {
      "cell_type": "code",
      "source": [
        "words = [\n",
        "  \"a\",\n",
        "  \"ability\",\n",
        "  \"able\",\n",
        "  \"about\",\n",
        "  \"above\",\n",
        "  \"abroad\",\n",
        "  \"absence\",\n",
        "  \"absent\",\n",
        "  \"absolute\",\n",
        "  \"accept\",\n",
        "  \"accident\",\n",
        "  \"accord\"]\n"
      ],
      "metadata": {
        "id": "HqEdzeHWFT0J"
      },
      "execution_count": 24,
      "outputs": []
    },
    {
      "cell_type": "code",
      "source": [
        "def get_valid_word(words : str) -> str:\n",
        "  return random.choice(words).upper()\n",
        "\n",
        "\n",
        "\n",
        "def hangman():\n",
        "  word = get_valid_word(words)\n",
        "  word_letters = set(word)\n",
        "  alphabet = set(string.ascii_uppercase)\n",
        "  used_letters = set()\n",
        "\n",
        "  lives = 6\n",
        "\n",
        "  while len(word_letters) > 0 and lives > 0:\n",
        "    print(f'You lives equals {lives}')\n",
        "    print(f'You have used these letters {used_letters}')\n",
        "\n",
        "    word_list = [letter if letter in used_letters else '-' for letter in word]\n",
        "\n",
        "    print('Current word: ', ' '.join(word_list))\n",
        "\n",
        "    user_letter = input('Guess a something: ').upper()\n",
        "\n",
        "    if user_letter in alphabet - used_letters:\n",
        "      used_letters.add(user_letter)\n",
        "      if user_letter in word_letters:\n",
        "        word_letters.remove(user_letter)\n",
        "      else:\n",
        "        lives -= 1\n",
        "    elif user_letter in used_letters:\n",
        "      print('You have already used character. Please try again')\n",
        "\n",
        "    else:\n",
        "      print('Invalide character, Please try again.')\n",
        "\n",
        "\n",
        "  if lives <= 0 or len(word_letters) <= 0:\n",
        "    word_list = [letter if letter in used_letters else '-' for letter in word]\n",
        "    print('Current word: ', ' '.join(word_list))\n",
        "\n",
        "    print('Great!....Restart?[y/n]')\n",
        "    if input().lower() == 'y':\n",
        "      hangman()\n",
        "    else:\n",
        "      return None\n",
        "\n",
        "\n",
        "\n",
        "\n"
      ],
      "metadata": {
        "id": "xDMx0sVaFU_5"
      },
      "execution_count": 53,
      "outputs": []
    },
    {
      "cell_type": "code",
      "source": [
        "hangman()"
      ],
      "metadata": {
        "colab": {
          "base_uri": "https://localhost:8080/"
        },
        "id": "K-PKLhMGJY5C",
        "outputId": "1fdfa37b-8cd4-4f1d-85fa-7cf6519195ba"
      },
      "execution_count": 54,
      "outputs": [
        {
          "name": "stdout",
          "output_type": "stream",
          "text": [
            "You lives equals 6\n",
            "You have used these letters set()\n",
            "Current word:  -\n",
            "Guess a something: a\n",
            "Current word:  A\n",
            "Great!....Restart?[y/n]\n",
            "y\n",
            "You lives equals 6\n",
            "You have used these letters set()\n",
            "Current word:  - - - - - -\n",
            "Guess a something: a\n",
            "You lives equals 6\n",
            "You have used these letters {'A'}\n",
            "Current word:  A - - - - -\n",
            "Guess a something: b\n",
            "You lives equals 6\n",
            "You have used these letters {'A', 'B'}\n",
            "Current word:  A B - - - -\n",
            "Guess a something: s\n",
            "You lives equals 6\n",
            "You have used these letters {'A', 'S', 'B'}\n",
            "Current word:  A B S - - -\n",
            "Guess a something: e\n",
            "You lives equals 6\n",
            "You have used these letters {'A', 'S', 'E', 'B'}\n",
            "Current word:  A B S E - -\n",
            "Guess a something: n\n",
            "You lives equals 6\n",
            "You have used these letters {'S', 'E', 'B', 'A', 'N'}\n",
            "Current word:  A B S E N -\n",
            "Guess a something: t\n",
            "Current word:  A B S E N T\n",
            "Great!....Restart?[y/n]\n",
            "n\n"
          ]
        }
      ]
    },
    {
      "cell_type": "code",
      "source": [],
      "metadata": {
        "id": "2kEpM0xMNips"
      },
      "execution_count": null,
      "outputs": []
    }
  ]
}