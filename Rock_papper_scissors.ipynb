{
  "nbformat": 4,
  "nbformat_minor": 0,
  "metadata": {
    "colab": {
      "provenance": [],
      "authorship_tag": "ABX9TyPuYrMqwymX8PAtDCHYLCMf",
      "include_colab_link": true
    },
    "kernelspec": {
      "name": "python3",
      "display_name": "Python 3"
    },
    "language_info": {
      "name": "python"
    }
  },
  "cells": [
    {
      "cell_type": "markdown",
      "metadata": {
        "id": "view-in-github",
        "colab_type": "text"
      },
      "source": [
        "<a href=\"https://colab.research.google.com/github/AntoniSopka97/algorithms-in-python/blob/main/Rock_papper_scissors.ipynb\" target=\"_parent\"><img src=\"https://colab.research.google.com/assets/colab-badge.svg\" alt=\"Open In Colab\"/></a>"
      ]
    },
    {
      "cell_type": "markdown",
      "source": [
        "# Игра в камень ножницы бумага"
      ],
      "metadata": {
        "id": "iqXMfSX6huBn"
      }
    },
    {
      "cell_type": "code",
      "execution_count": 4,
      "metadata": {
        "id": "MiSxj_toheqj"
      },
      "outputs": [],
      "source": [
        "import random\n",
        "\n",
        "def play():\n",
        "  user = input(\"Wha's your choice? 'r' for rock, 'p' for paper, 's' for scissors \")\n",
        "  computer = random.choice(['r','p','s'])\n",
        "\n",
        "  if user == computer:\n",
        "    return 'tie'\n",
        "\n",
        "\n",
        "  if is_win(user, computer):\n",
        "    print(f\"Computer choice: {computer}\")\n",
        "    return 'You win!'\n",
        "  else:\n",
        "    return 'You loss'\n",
        "\n",
        "def is_win(p, c):\n",
        "  if(p == 'r' and c == 's') or (p == 's' and c == 'p') or (p == 'p' and c == 'r'):\n",
        "    return True"
      ]
    },
    {
      "cell_type": "code",
      "source": [
        "play()"
      ],
      "metadata": {
        "colab": {
          "base_uri": "https://localhost:8080/",
          "height": 72
        },
        "id": "97mpOgIqjvp1",
        "outputId": "b1d6aa73-afb4-4e6a-e9f1-ea02f637527d"
      },
      "execution_count": 5,
      "outputs": [
        {
          "output_type": "stream",
          "name": "stdout",
          "text": [
            "Wha's your choice? 'r' for rock, 'p' for paper, 's' for scissorss\n",
            "Computer choice: p\n"
          ]
        },
        {
          "output_type": "execute_result",
          "data": {
            "text/plain": [
              "'You win!'"
            ],
            "application/vnd.google.colaboratory.intrinsic+json": {
              "type": "string"
            }
          },
          "metadata": {},
          "execution_count": 5
        }
      ]
    },
    {
      "cell_type": "code",
      "source": [],
      "metadata": {
        "id": "w2I_PMGyjwnK"
      },
      "execution_count": null,
      "outputs": []
    }
  ]
}