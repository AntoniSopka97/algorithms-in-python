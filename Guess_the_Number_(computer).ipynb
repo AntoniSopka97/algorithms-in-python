{
  "nbformat": 4,
  "nbformat_minor": 0,
  "metadata": {
    "colab": {
      "provenance": [],
      "authorship_tag": "ABX9TyMRYPtY5sQ03LJ+ZChvJZL2",
      "include_colab_link": true
    },
    "kernelspec": {
      "name": "python3",
      "display_name": "Python 3"
    },
    "language_info": {
      "name": "python"
    }
  },
  "cells": [
    {
      "cell_type": "markdown",
      "metadata": {
        "id": "view-in-github",
        "colab_type": "text"
      },
      "source": [
        "<a href=\"https://colab.research.google.com/github/AntoniSopka97/algorithms-in-python/blob/main/Guess_the_Number_(computer).ipynb\" target=\"_parent\"><img src=\"https://colab.research.google.com/assets/colab-badge.svg\" alt=\"Open In Colab\"/></a>"
      ]
    },
    {
      "cell_type": "markdown",
      "source": [
        "# Игра, в угадай число, загаданное компьютером!"
      ],
      "metadata": {
        "id": "W52E76mjn5VF"
      }
    },
    {
      "cell_type": "code",
      "execution_count": 5,
      "metadata": {
        "colab": {
          "base_uri": "https://localhost:8080/"
        },
        "id": "d7pftLG-nnc5",
        "outputId": "f1f3a0cf-04a4-47f6-fa8e-9badf932af00"
      },
      "outputs": [
        {
          "name": "stdout",
          "output_type": "stream",
          "text": [
            "Guess a number between 1 and 10: 10\n",
            "Уour number is more than required (:\n",
            "Guess a number between 1 and 10: 3\n",
            "Уour number is less than required :)\n",
            "Guess a number between 1 and 10: 6\n",
            "Уour number is more than required (:\n",
            "Guess a number between 1 and 10: 5\n",
            "Yes you right!\n",
            "Restart: [yes/no]?\n",
            "no!\n"
          ]
        }
      ],
      "source": [
        "import random\n",
        "\n",
        "def guess_the_number(x):\n",
        "  random_number = random.randint(1, x)\n",
        "  guess = 0\n",
        "\n",
        "  while guess != random_number:\n",
        "    guess = int(input(f'Guess a number between 1 and {x}: '))\n",
        "\n",
        "    if guess == random_number:\n",
        "      print(\"Yes you right!\")\n",
        "      print(\"Restart: [yes/no]?\")\n",
        "      if input() == \"yes\":\n",
        "        guess_the_number(x)\n",
        "      else:\n",
        "        print(\"Thanks for Games!\")\n",
        "        break\n",
        "\n",
        "    elif guess < random_number:\n",
        "      print(\"Уour number is LESS than required :)\")\n",
        "    elif guess > random_number:\n",
        "      print(\"Уour number is MORE than required (:\")\n",
        "\n",
        "\n",
        "\n",
        "guess_the_number(10)"
      ]
    },
    {
      "cell_type": "code",
      "source": [],
      "metadata": {
        "id": "WUGbDz2fo3uK"
      },
      "execution_count": null,
      "outputs": []
    }
  ]
}