{
  "nbformat": 4,
  "nbformat_minor": 0,
  "metadata": {
    "colab": {
      "provenance": [],
      "authorship_tag": "ABX9TyP8ox6bH9mScq2XVLjloRzr",
      "include_colab_link": true
    },
    "kernelspec": {
      "name": "python3",
      "display_name": "Python 3"
    },
    "language_info": {
      "name": "python"
    }
  },
  "cells": [
    {
      "cell_type": "markdown",
      "metadata": {
        "id": "view-in-github",
        "colab_type": "text"
      },
      "source": [
        "<a href=\"https://colab.research.google.com/github/AntoniSopka97/algorithms-in-python/blob/main/Madlibs.ipynb\" target=\"_parent\"><img src=\"https://colab.research.google.com/assets/colab-badge.svg\" alt=\"Open In Colab\"/></a>"
      ]
    },
    {
      "cell_type": "markdown",
      "source": [
        "# Игра в слова с фразовым шаблоном"
      ],
      "metadata": {
        "id": "U6LmvZvDgyL4"
      }
    },
    {
      "cell_type": "code",
      "execution_count": 15,
      "metadata": {
        "id": "Bs2zPQw_fUXH"
      },
      "outputs": [],
      "source": [
        "def start_game():\n",
        "  adj = input(\"Adjective: \")\n",
        "  verb1 = input(\"Verb: \")\n",
        "  verb2 = input(\"Verb: \")\n",
        "  famous_person = input(\"Famous person: \")\n",
        "  inputs = [adj, verb1, verb2, famous_person]\n",
        "\n",
        "  checl_result(inputs)\n",
        "\n",
        "\n",
        "def checl_result(inputs):\n",
        "  right_variable = \"Computer programming is so Cool! It makes me so excited all the time because \\\n",
        "  I love to coding. Stay hydrated and happy like you are Ilon Mask!\"\n",
        "\n",
        "\n",
        "  madlib = f\"Computer programming is so {inputs[0]}! It makes me so excited all the time because \\\n",
        "  I love to {inputs[1]}. Stay hydrated and {inputs[2]} like you are {inputs[3]}!\"\n",
        "\n",
        "  if madlib == right_variable:\n",
        "      print(\"You right!\" + \"\\n\" + madlib)\n",
        "  else:\n",
        "      print(\"Almost done, try again!\")\n",
        "\n",
        "      print(\"Strart game :[yes/no]?\")\n",
        "      if  input(\"\") == \"yes\":\n",
        "        start_game()\n",
        "      else:\n",
        "        pass\n",
        "\n",
        "\n",
        "\n",
        "\n"
      ]
    },
    {
      "cell_type": "code",
      "source": [
        "print(\"Strart game :[yes/no]?\")\n",
        "if  input(\"\") == \"yes\":\n",
        "  start_game()\n",
        "else:\n",
        "  print('Thanks for playing!')\n",
        "  pass\n",
        "\n",
        "\n",
        "\n"
      ],
      "metadata": {
        "colab": {
          "base_uri": "https://localhost:8080/"
        },
        "id": "1MsrIWHniZ3I",
        "outputId": "58209ee8-9657-4d3c-e839-c01cbf730bd9"
      },
      "execution_count": 16,
      "outputs": [
        {
          "name": "stdout",
          "output_type": "stream",
          "text": [
            "Strart game :[yes/no]?\n",
            "yes\n",
            "Adjective: s\n",
            "Verb: a\n",
            "Verb: d\n",
            "Famous person: s\n",
            "Almost done, try again!\n",
            "Strart game :[yes/no]?\n",
            "no\n"
          ]
        }
      ]
    },
    {
      "cell_type": "code",
      "source": [],
      "metadata": {
        "id": "fDPovDhzlnQI"
      },
      "execution_count": null,
      "outputs": []
    }
  ]
}