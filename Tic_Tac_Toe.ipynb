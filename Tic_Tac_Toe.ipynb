{
  "nbformat": 4,
  "nbformat_minor": 0,
  "metadata": {
    "colab": {
      "provenance": [],
      "authorship_tag": "ABX9TyMch1GCISrRGCuPffULfHp9",
      "include_colab_link": true
    },
    "kernelspec": {
      "name": "python3",
      "display_name": "Python 3"
    },
    "language_info": {
      "name": "python"
    }
  },
  "cells": [
    {
      "cell_type": "markdown",
      "metadata": {
        "id": "view-in-github",
        "colab_type": "text"
      },
      "source": [
        "<a href=\"https://colab.research.google.com/github/AntoniSopka97/algorithms-in-python/blob/main/Tic_Tac_Toe.ipynb\" target=\"_parent\"><img src=\"https://colab.research.google.com/assets/colab-badge.svg\" alt=\"Open In Colab\"/></a>"
      ]
    },
    {
      "cell_type": "markdown",
      "source": [
        "#TIC-TAC-TOE"
      ],
      "metadata": {
        "id": "2PjoGsj-jJqy"
      }
    },
    {
      "cell_type": "code",
      "execution_count": 43,
      "metadata": {
        "id": "SNvitFfRjIRg"
      },
      "outputs": [],
      "source": [
        "import math\n",
        "import random\n",
        "import time"
      ]
    },
    {
      "cell_type": "code",
      "source": [
        "class TicTicToe:\n",
        "  def __init__(self):\n",
        "    self.board = [' ' for _ in range(9)]\n",
        "    self.current_winner = None\n",
        "\n",
        "  def print_board(self):\n",
        "    for row in [self.board[i * 3 : (i + 1) * 3] for i in range(3)]:\n",
        "      print('| ' +' | '.join(row) + ' |')\n",
        "\n",
        "  @staticmethod\n",
        "  def print_board_nums():\n",
        "    number_board = [[str(i) for i in range(j * 3, (j +1) * 3)] for j in range(3)]\n",
        "    for row in number_board:\n",
        "      print('| ' +' | '.join(row) + ' |')\n",
        "\n",
        "  def availabel_moves(self):\n",
        "    return [i for i, spot in enumerate(self.board) if spot == ' ']\n",
        "\n",
        "  def empty_squares(self):\n",
        "    return ' ' in self.board\n",
        "\n",
        "  def num_empty_squares(self):\n",
        "    return self.board.count(' ')\n",
        "\n",
        "  def make_move(self, square, letter):\n",
        "    if self.board[square] == ' ':\n",
        "       self.board[square] = letter\n",
        "       if self.winner(square, letter):\n",
        "        self.current_winner = letter\n",
        "       return True\n",
        "    return False\n",
        "\n",
        "  def winner(self, square, letter):\n",
        "    row_ind = square // 3\n",
        "    row = self.board[row_ind * 3 : (row_ind + 1) * 3]\n",
        "    if all(spot == letter for spot in row):\n",
        "      return True\n",
        "\n",
        "    col_ind = square % 3\n",
        "    column = [self.board[col_ind + i * 3 ] for i in range(3)]\n",
        "    if all(spot == letter for spot in column):\n",
        "      return True\n",
        "\n",
        "    # check diogonals (0,2,4,6,8) point\n",
        "    if square % 2 == 0:\n",
        "      diagonal1 = [self.board[i] for i in [0, 4, 8]]\n",
        "      if all(spot == letter for spot in diagonal1):\n",
        "        return True\n",
        "      diagonal2 = [self.board[i] for i in [2, 4, 6]]\n",
        "      if all(spot == letter for spot in diagonal2):\n",
        "        return True\n",
        "\n",
        "    return False\n",
        "\n",
        "def play(game, x_player, o_player, print_game = True):\n",
        "  if print_game:\n",
        "    game.print_board_nums()\n",
        "\n",
        "  letter = 'X'\n",
        "\n",
        "  while game.empty_squares():\n",
        "    if letter == 'O':\n",
        "      square = o_player.get_move(game)\n",
        "    else:\n",
        "      square = x_player.get_move(game)\n",
        "\n",
        "    if game.make_move(square, letter):\n",
        "      if print_game:\n",
        "        print(letter + f' makes a move to square {square}')\n",
        "        game.print_board()\n",
        "        print('')\n",
        "\n",
        "      if game.current_winner:\n",
        "        if print_game:\n",
        "          print(f'Winner {letter}')\n",
        "        return letter\n",
        "\n",
        "\n",
        "      letter = 'O' if letter == 'X' else 'X'\n",
        "\n",
        "    time.sleep(0.8)\n",
        "\n",
        "\n",
        "  if print_game:\n",
        "    print('Its a tie!')\n",
        "\n",
        "\n",
        "\n"
      ],
      "metadata": {
        "id": "awn3tPX9oDLU"
      },
      "execution_count": 44,
      "outputs": []
    },
    {
      "cell_type": "code",
      "source": [
        "class Player():\n",
        "    def __init__(self, letter):\n",
        "        self.letter = letter\n",
        "\n",
        "    def get_move(self, game):\n",
        "        pass"
      ],
      "metadata": {
        "id": "qUKLCCf2jSYC"
      },
      "execution_count": 45,
      "outputs": []
    },
    {
      "cell_type": "code",
      "source": [
        "class RandomComputerPlayer(Player):\n",
        "  def __init__(self, letter):\n",
        "    super().__init__(letter)\n",
        "\n",
        "  def get_move(self, game):\n",
        "    square = random.choice(game.availabel_moves())\n",
        "    return square"
      ],
      "metadata": {
        "id": "6fczBl46kN1C"
      },
      "execution_count": 46,
      "outputs": []
    },
    {
      "cell_type": "code",
      "source": [
        "class HumanPlayer(Player):\n",
        "  def __init__(self, letter):\n",
        "    super().__init__(letter)\n",
        "\n",
        "  def get_move(self, game):\n",
        "    valid_sqare = False\n",
        "    val = None\n",
        "    while not valid_sqare:\n",
        "      square = input(self.letter + '\\'s turn. Input move (0-8):')\n",
        "\n",
        "      try:\n",
        "        val = int(square)\n",
        "        if val not in game.availabel_moves():\n",
        "          raise ValueError\n",
        "        valid_sqare = True\n",
        "      except ValueError:\n",
        "        print('Invalid square. Try again.')\n",
        "    return val"
      ],
      "metadata": {
        "id": "nZi593gKkhHa"
      },
      "execution_count": 49,
      "outputs": []
    },
    {
      "cell_type": "code",
      "source": [
        "x_player = HumanPlayer('X')\n",
        "o_player = RandomComputerPlayer('O')\n",
        "t = TicTicToe()\n",
        "play(t, x_player, o_player, print_game = True)\n",
        "\n",
        "\n",
        "\n",
        "\n",
        "\n",
        "\n"
      ],
      "metadata": {
        "colab": {
          "base_uri": "https://localhost:8080/",
          "height": 858
        },
        "id": "iTnxHbkJlKs7",
        "outputId": "86e942a9-38cb-43fc-a918-7acfb68d5371"
      },
      "execution_count": 48,
      "outputs": [
        {
          "output_type": "stream",
          "name": "stdout",
          "text": [
            "| 0 | 1 | 2 |\n",
            "| 3 | 4 | 5 |\n",
            "| 6 | 7 | 8 |\n",
            "X's turn. Input move (0-9):1\n",
            "X makes a move to square 1\n",
            "|   | X |   |\n",
            "|   |   |   |\n",
            "|   |   |   |\n",
            "\n",
            "O makes a move to square 8\n",
            "|   | X |   |\n",
            "|   |   |   |\n",
            "|   |   | O |\n",
            "\n",
            "X's turn. Input move (0-9):4\n",
            "X makes a move to square 4\n",
            "|   | X |   |\n",
            "|   | X |   |\n",
            "|   |   | O |\n",
            "\n",
            "O makes a move to square 2\n",
            "|   | X | O |\n",
            "|   | X |   |\n",
            "|   |   | O |\n",
            "\n",
            "X's turn. Input move (0-9):1\n",
            "Invalid square. Try again.\n",
            "X's turn. Input move (0-9):0\n",
            "X makes a move to square 0\n",
            "| X | X | O |\n",
            "|   | X |   |\n",
            "|   |   | O |\n",
            "\n",
            "O makes a move to square 6\n",
            "| X | X | O |\n",
            "|   | X |   |\n",
            "| O |   | O |\n",
            "\n",
            "X's turn. Input move (0-9):7\n",
            "X makes a move to square 7\n",
            "| X | X | O |\n",
            "|   | X |   |\n",
            "| O | X | O |\n",
            "\n",
            "Winner X\n"
          ]
        },
        {
          "output_type": "execute_result",
          "data": {
            "text/plain": [
              "'X'"
            ],
            "application/vnd.google.colaboratory.intrinsic+json": {
              "type": "string"
            }
          },
          "metadata": {},
          "execution_count": 48
        }
      ]
    },
    {
      "cell_type": "code",
      "source": [
        "\n"
      ],
      "metadata": {
        "id": "heR9XsDqmNz6"
      },
      "execution_count": null,
      "outputs": []
    }
  ]
}