{
  "nbformat": 4,
  "nbformat_minor": 0,
  "metadata": {
    "colab": {
      "provenance": [],
      "authorship_tag": "ABX9TyNFoHv2QcT9aOHHzJfhzdRY",
      "include_colab_link": true
    },
    "kernelspec": {
      "name": "python3",
      "display_name": "Python 3"
    },
    "language_info": {
      "name": "python"
    }
  },
  "cells": [
    {
      "cell_type": "markdown",
      "metadata": {
        "id": "view-in-github",
        "colab_type": "text"
      },
      "source": [
        "<a href=\"https://colab.research.google.com/github/AntoniSopka97/algorithms-in-python/blob/main/binary_search.ipynb\" target=\"_parent\"><img src=\"https://colab.research.google.com/assets/colab-badge.svg\" alt=\"Open In Colab\"/></a>"
      ]
    },
    {
      "cell_type": "markdown",
      "source": [
        "# Binary search"
      ],
      "metadata": {
        "id": "oyu93A2L3Gu1"
      }
    },
    {
      "cell_type": "code",
      "execution_count": 63,
      "metadata": {
        "id": "P4dYlHbM3CKA"
      },
      "outputs": [],
      "source": [
        "def naive_search(l, target):\n",
        "  for i in range(len(l)):\n",
        "    if l[i] == target:\n",
        "      return i\n",
        "  return -1\n",
        "\n",
        "\n",
        "def binary_search(l, target, low = None, high = None):\n",
        "\n",
        "  if low is None:\n",
        "    low = 0\n",
        "  if high is None:\n",
        "    high = len(l) - 1\n",
        "\n",
        "  if high < low:\n",
        "    return -1\n",
        "\n",
        "  midpoint = (high + low) // 2\n",
        "  if l[midpoint] == target:\n",
        "    return midpoint\n",
        "\n",
        "  if target < l[midpoint]:\n",
        "    return binary_search(l, target, low = low, high = midpoint - 1)\n",
        "  else:\n",
        "    return binary_search(l, target, low = midpoint + 1, high = high)\n"
      ]
    },
    {
      "cell_type": "code",
      "source": [
        "l = [1,2,5,10,12,13]\n",
        "print(naive_search(l, 5))\n",
        "print(binary_search(l, 10))\n"
      ],
      "metadata": {
        "colab": {
          "base_uri": "https://localhost:8080/"
        },
        "id": "zHkuLbvZ6Nbh",
        "outputId": "7bf1f7fa-8f45-4d26-99a0-c321ece79fe2"
      },
      "execution_count": 64,
      "outputs": [
        {
          "output_type": "stream",
          "name": "stdout",
          "text": [
            "2\n",
            "3\n"
          ]
        }
      ]
    },
    {
      "cell_type": "code",
      "source": [
        "import random\n",
        "lenght = 1000\n",
        "sorted_list = set()\n",
        "\n",
        "while len(sorted_list)< lenght:\n",
        "  sorted_list.add(random.randint(-3 * lenght, 3* lenght))\n",
        "\n",
        "sorted_list = sorted(list(sorted_list))"
      ],
      "metadata": {
        "id": "0i-UH8506dIf"
      },
      "execution_count": 65,
      "outputs": []
    },
    {
      "cell_type": "code",
      "source": [
        "import time\n",
        "start = time.time()\n",
        "for target in sorted_list:\n",
        "  naive_search(sorted_list, target)\n",
        "end = time.time()\n",
        "\n",
        "print((end - start)/lenght)"
      ],
      "metadata": {
        "colab": {
          "base_uri": "https://localhost:8080/"
        },
        "id": "mn1br_T67I0R",
        "outputId": "68810c79-24c0-4106-ab93-ae8b63feff53"
      },
      "execution_count": 66,
      "outputs": [
        {
          "output_type": "stream",
          "name": "stdout",
          "text": [
            "3.3596515655517575e-05\n"
          ]
        }
      ]
    },
    {
      "cell_type": "code",
      "source": [
        "start = time.time()\n",
        "for target in sorted_list:\n",
        "  binary_search(sorted_list, target)\n",
        "end = time.time()\n",
        "\n",
        "print((end - start)/lenght)"
      ],
      "metadata": {
        "colab": {
          "base_uri": "https://localhost:8080/"
        },
        "id": "4FLp8B9p7xTf",
        "outputId": "193c37d0-420b-40fa-89c1-316d640ffeab"
      },
      "execution_count": 68,
      "outputs": [
        {
          "output_type": "stream",
          "name": "stdout",
          "text": [
            "7.35330581665039e-06\n"
          ]
        }
      ]
    },
    {
      "cell_type": "code",
      "source": [],
      "metadata": {
        "id": "v3zfjumV74Lf"
      },
      "execution_count": null,
      "outputs": []
    }
  ]
}