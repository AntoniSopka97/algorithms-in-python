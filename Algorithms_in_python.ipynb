{
  "nbformat": 4,
  "nbformat_minor": 0,
  "metadata": {
    "colab": {
      "provenance": [],
      "collapsed_sections": [
        "bOo3ixphMkxg"
      ],
      "authorship_tag": "ABX9TyPihJwQ3aYlbduH1s4bJg/E",
      "include_colab_link": true
    },
    "kernelspec": {
      "name": "python3",
      "display_name": "Python 3"
    },
    "language_info": {
      "name": "python"
    }
  },
  "cells": [
    {
      "cell_type": "markdown",
      "metadata": {
        "id": "view-in-github",
        "colab_type": "text"
      },
      "source": [
        "<a href=\"https://colab.research.google.com/github/AntoniSopka97/algorithms-in-python/blob/main/Algorithms_in_python.ipynb\" target=\"_parent\"><img src=\"https://colab.research.google.com/assets/colab-badge.svg\" alt=\"Open In Colab\"/></a>"
      ]
    },
    {
      "cell_type": "markdown",
      "source": [
        "# Simple recursive Algorithms"
      ],
      "metadata": {
        "id": "bOo3ixphMkxg"
      }
    },
    {
      "cell_type": "markdown",
      "source": [
        "## Factorials\n",
        "<n! = (n - 0) * (n - 1) * (n - 2).....>\n"
      ],
      "metadata": {
        "id": "wMo6OQ9ENYT6"
      }
    },
    {
      "cell_type": "code",
      "source": [
        "def iterative_factorial(n):\n",
        "  fact = 1\n",
        "  for i in range(2, n + 1):\n",
        "    fact *= i\n",
        "\n",
        "  return fact"
      ],
      "metadata": {
        "id": "gUzGCeowMmlM"
      },
      "execution_count": 1,
      "outputs": []
    },
    {
      "cell_type": "code",
      "source": [
        "print(iterative_factorial(5))"
      ],
      "metadata": {
        "colab": {
          "base_uri": "https://localhost:8080/"
        },
        "id": "WR135QtkOR2i",
        "outputId": "9cf4abe9-9795-4e2d-dd8e-9c6fbcca36a5"
      },
      "execution_count": 2,
      "outputs": [
        {
          "output_type": "stream",
          "name": "stdout",
          "text": [
            "120\n"
          ]
        }
      ]
    },
    {
      "cell_type": "code",
      "source": [
        "def recur_factorial(n):\n",
        "  if n == 1 : return n\n",
        "  else: return n * recur_factorial(n - 1)\n"
      ],
      "metadata": {
        "id": "l7pR5LL0OUeH"
      },
      "execution_count": 3,
      "outputs": []
    },
    {
      "cell_type": "code",
      "source": [
        "print(recur_factorial(5))"
      ],
      "metadata": {
        "colab": {
          "base_uri": "https://localhost:8080/"
        },
        "id": "7LpyDhPUOusx",
        "outputId": "ecf3aee2-141a-4db9-fdcc-c0e575e99bc6"
      },
      "execution_count": 4,
      "outputs": [
        {
          "output_type": "stream",
          "name": "stdout",
          "text": [
            "120\n"
          ]
        }
      ]
    },
    {
      "cell_type": "markdown",
      "source": [
        "## Premutations\n"
      ],
      "metadata": {
        "id": "3jmVLq6RPnno"
      }
    },
    {
      "cell_type": "code",
      "source": [
        "# AB -> BA\n",
        "\n",
        "def permute(string: str, pocket = \"\"):\n",
        "  if len(string) == 0:\n",
        "    print(pocket)\n",
        "  else:\n",
        "    for i in range(len(string)):\n",
        "      letter = string[i]\n",
        "      front = string[0:i]\n",
        "      back = string[i+1:]\n",
        "      together = front + back\n",
        "      permute(together, letter + pocket)\n",
        "\n",
        "\n"
      ],
      "metadata": {
        "id": "lyhiRKAEOy-v"
      },
      "execution_count": 5,
      "outputs": []
    },
    {
      "cell_type": "code",
      "source": [
        "print(permute(\"ABC\", \"\"))"
      ],
      "metadata": {
        "id": "jZ2wzZGLRi9P",
        "colab": {
          "base_uri": "https://localhost:8080/"
        },
        "outputId": "fed170f1-99e5-49bc-8d2f-5807ddf8bfc8"
      },
      "execution_count": 6,
      "outputs": [
        {
          "output_type": "stream",
          "name": "stdout",
          "text": [
            "CBA\n",
            "BCA\n",
            "CAB\n",
            "ACB\n",
            "BAC\n",
            "ABC\n",
            "None\n"
          ]
        }
      ]
    },
    {
      "cell_type": "code",
      "source": [
        "from math import factorial\n",
        "\n",
        "def permutations(string):\n",
        "  for p in range(factorial(len(string))):\n",
        "    print(\"\".join(string))\n",
        "    i = len(string) - 1\n",
        "    while i > 0 and string[i - 1] > string[i]:\n",
        "      i -= 1\n",
        "    string[i:] = reversed(string[i:])\n",
        "    if i > 0:\n",
        "      q = i\n",
        "      while string[i - 1] > string[q]:\n",
        "        q += 1\n",
        "\n",
        "      temp = string[i - 1]\n",
        "      string[i - 1] = string[q]\n",
        "      string[q] = temp"
      ],
      "metadata": {
        "id": "ZZ5g_RrURsp9"
      },
      "execution_count": 7,
      "outputs": []
    },
    {
      "cell_type": "code",
      "source": [
        "s = 'abc'\n",
        "s = list(s)\n",
        "print(permutations(s))"
      ],
      "metadata": {
        "colab": {
          "base_uri": "https://localhost:8080/"
        },
        "id": "wb398CL3Uy0y",
        "outputId": "4c0a6771-38e7-4dee-f6a1-fe1703f8e261"
      },
      "execution_count": 8,
      "outputs": [
        {
          "output_type": "stream",
          "name": "stdout",
          "text": [
            "abc\n",
            "acb\n",
            "bac\n",
            "bca\n",
            "cab\n",
            "cba\n",
            "None\n"
          ]
        }
      ]
    },
    {
      "cell_type": "markdown",
      "source": [
        "# Search and Sort"
      ],
      "metadata": {
        "id": "xeW7PXnFYwfE"
      }
    },
    {
      "cell_type": "markdown",
      "source": [
        "## 1. Linear Search"
      ],
      "metadata": {
        "id": "EB3OBihUckpe"
      }
    },
    {
      "cell_type": "code",
      "source": [
        "def linear_search(arr : list, target : int):\n",
        "  for i in range(len(arr)):\n",
        "\n",
        "    if arr[i] == target:\n",
        "      return i"
      ],
      "metadata": {
        "id": "wvg4U-_Xcjr2"
      },
      "execution_count": 9,
      "outputs": []
    },
    {
      "cell_type": "code",
      "source": [
        "arr = [2,5,8,3,12,44,99,1]\n",
        "print(linear_search(arr, 3))"
      ],
      "metadata": {
        "colab": {
          "base_uri": "https://localhost:8080/"
        },
        "id": "pM9RDiVVU7mX",
        "outputId": "9d597d5b-f908-446f-ba7f-f53a6f3f4be6"
      },
      "execution_count": 10,
      "outputs": [
        {
          "output_type": "stream",
          "name": "stdout",
          "text": [
            "3\n"
          ]
        }
      ]
    },
    {
      "cell_type": "markdown",
      "source": [
        "## 2. Binary search"
      ],
      "metadata": {
        "id": "OTiCnGn2dfi-"
      }
    },
    {
      "cell_type": "code",
      "source": [
        "def binary_search(arr, start, end, target):\n",
        "\n",
        "  if end == 0 or end is None:\n",
        "    end = len(arr) - 1\n",
        "\n",
        "\n",
        "  while start <= end:\n",
        "\n",
        "    mid = (start + end)//2\n",
        "\n",
        "    if arr[mid] < target:\n",
        "      start = mid + 1\n",
        "\n",
        "    elif arr[mid] > target:\n",
        "      end = mid - 1\n",
        "\n",
        "    else:\n",
        "      return mid\n",
        "\n",
        "  return -1\n"
      ],
      "metadata": {
        "id": "y8l6QhL9de8I"
      },
      "execution_count": 11,
      "outputs": []
    },
    {
      "cell_type": "code",
      "source": [
        "arr = [2,5,9,10,88,102,422,722]\n",
        "target = 10\n",
        "\n",
        "result = binary_search(arr, 0, 0, target)\n",
        "\n",
        "if result != -1:\n",
        "  print(f\"Element, target is equals {target}, is present at index {result}\")\n",
        "else:\n",
        "  print(f\"Element {target}, is not array\")"
      ],
      "metadata": {
        "colab": {
          "base_uri": "https://localhost:8080/"
        },
        "id": "1No1jnvvdWFd",
        "outputId": "52477cb2-7f51-4a0e-c4eb-394c94b26529"
      },
      "execution_count": 12,
      "outputs": [
        {
          "output_type": "stream",
          "name": "stdout",
          "text": [
            "Element, target is equals 10, is present at index 3\n"
          ]
        }
      ]
    },
    {
      "cell_type": "markdown",
      "source": [
        "## 3. Bubble sort"
      ],
      "metadata": {
        "id": "W4Px7yYagmE_"
      }
    },
    {
      "cell_type": "code",
      "source": [
        "def bubble_optimized(A):\n",
        "  iterations = 0\n",
        "  for i in range(len(A)):\n",
        "    for j in range(len(A) - i - 1):\n",
        "      iterations += 1\n",
        "      if A[j] > A[j + 1]:\n",
        "        A[j], A[j + 1] = A[j + 1], A[j]\n",
        "\n",
        "  return A, iterations"
      ],
      "metadata": {
        "id": "KOG-j3ChfIlH"
      },
      "execution_count": 13,
      "outputs": []
    },
    {
      "cell_type": "code",
      "source": [
        "A = [9,8,7,5,6,4,3,2,1]\n",
        "\n",
        "print(bubble_optimized(A))"
      ],
      "metadata": {
        "colab": {
          "base_uri": "https://localhost:8080/"
        },
        "id": "oIY_Nv6PhtU8",
        "outputId": "623be43d-0ba3-4aae-86e6-8d2430d4f5e1"
      },
      "execution_count": 14,
      "outputs": [
        {
          "output_type": "stream",
          "name": "stdout",
          "text": [
            "([1, 2, 3, 4, 5, 6, 7, 8, 9], 36)\n"
          ]
        }
      ]
    },
    {
      "cell_type": "markdown",
      "source": [
        "## 4. Insertion Sort"
      ],
      "metadata": {
        "id": "k1vwq30BiwSP"
      }
    },
    {
      "cell_type": "code",
      "source": [
        "def insert_sort(A):\n",
        "\n",
        "  for step in range(1, len(A)):\n",
        "\n",
        "        key = A[step]\n",
        "        j = step - 1\n",
        "\n",
        "        while j >= 0 and key < A[j]:\n",
        "            A[j + 1] = A[j]\n",
        "            j = j - 1\n",
        "        A[j + 1] = key\n",
        "\n",
        "  return A"
      ],
      "metadata": {
        "id": "Bs9a3Iruh3rb"
      },
      "execution_count": 15,
      "outputs": []
    },
    {
      "cell_type": "code",
      "source": [
        "A = [5,2,4,6,1,3]\n",
        "print(insert_sort(A))"
      ],
      "metadata": {
        "colab": {
          "base_uri": "https://localhost:8080/"
        },
        "id": "3syyU6fIoowG",
        "outputId": "27fbdde7-df2e-4f54-abc2-39e3a43a6dd6"
      },
      "execution_count": 16,
      "outputs": [
        {
          "output_type": "stream",
          "name": "stdout",
          "text": [
            "[1, 2, 3, 4, 5, 6]\n"
          ]
        }
      ]
    },
    {
      "cell_type": "markdown",
      "source": [
        "# Linked List"
      ],
      "metadata": {
        "id": "6UdK89MSskDZ"
      }
    },
    {
      "cell_type": "code",
      "source": [
        "class Node:\n",
        "  def __init__(self, data):\n",
        "    self.data = data\n",
        "    self.next = None\n",
        "\n",
        "class LinkedList:\n",
        "\n",
        "  def traversal(self):\n",
        "    first = self.head\n",
        "    while first:\n",
        "      print(first.data)\n",
        "      first = first.next\n",
        "\n",
        "  def insert_new_header(self, new_data):\n",
        "    new_node = Node(new_data)\n",
        "    new_node.next = self.head\n",
        "    self.head = new_node\n",
        "\n",
        "  def search(self, x):\n",
        "    temp = self.head\n",
        "    while temp is not None:\n",
        "\n",
        "      if temp.data == x:\n",
        "        return True\n",
        "\n",
        "      temp = temp.next\n",
        "\n",
        "    else:\n",
        "        return False\n",
        "\n",
        "\n",
        "  def delete_node(self, data):\n",
        "    temp = self.head\n",
        "    while temp is not None:\n",
        "      if temp.data == data:\n",
        "        break\n",
        "      prev = temp\n",
        "      temp = temp.next\n",
        "    self.next = temp.next\n",
        "\n",
        "  def delete_tail(self):\n",
        "    temp = self.head\n",
        "    while temp.next.next is not None:\n",
        "      temp = temp.next\n",
        "\n",
        "    temp.next = None\n",
        "\n",
        "\n"
      ],
      "metadata": {
        "id": "39S8CLbmo1sU"
      },
      "execution_count": 26,
      "outputs": []
    },
    {
      "cell_type": "code",
      "source": [
        "\n",
        "family = LinkedList()\n",
        "family.head = Node(\"Bob\")\n",
        "wife = Node(\"Amy\")\n",
        "first_kid = Node(\"Max\")\n",
        "second_kid = Node(\"Jenny\")\n"
      ],
      "metadata": {
        "id": "XO7r9x2PtLTv"
      },
      "execution_count": 28,
      "outputs": []
    },
    {
      "cell_type": "code",
      "source": [
        "family.head.next = wife\n",
        "wife.next = first_kid\n",
        "first_kid.next = second_kid"
      ],
      "metadata": {
        "id": "ah71wXjvtM5S"
      },
      "execution_count": 29,
      "outputs": []
    },
    {
      "cell_type": "code",
      "source": [
        "family.traversal()"
      ],
      "metadata": {
        "colab": {
          "base_uri": "https://localhost:8080/"
        },
        "id": "xKIg6DwKtrq5",
        "outputId": "20463c6d-8d67-41ef-fcd0-491d1528a6c3"
      },
      "execution_count": 30,
      "outputs": [
        {
          "output_type": "stream",
          "name": "stdout",
          "text": [
            "Bob\n",
            "Amy\n",
            "Max\n",
            "Jenny\n"
          ]
        }
      ]
    },
    {
      "cell_type": "code",
      "source": [
        "family.insert_new_header(\"Anton\")\n",
        "family.traversal()"
      ],
      "metadata": {
        "colab": {
          "base_uri": "https://localhost:8080/"
        },
        "id": "BORTweMkuqB3",
        "outputId": "70451552-eaec-4680-8df3-7af44e49ebf1"
      },
      "execution_count": 31,
      "outputs": [
        {
          "output_type": "stream",
          "name": "stdout",
          "text": [
            "Anton\n",
            "Bob\n",
            "Amy\n",
            "Max\n",
            "Jenny\n"
          ]
        }
      ]
    },
    {
      "cell_type": "code",
      "source": [
        "print(family.search(\"Anton\"))"
      ],
      "metadata": {
        "colab": {
          "base_uri": "https://localhost:8080/"
        },
        "id": "WxlJN6JHvly2",
        "outputId": "98ba1791-7270-4970-8247-b0c06cf7e3f8"
      },
      "execution_count": 32,
      "outputs": [
        {
          "output_type": "stream",
          "name": "stdout",
          "text": [
            "True\n"
          ]
        }
      ]
    },
    {
      "cell_type": "code",
      "source": [
        "family.delete_node(\"Anton\")"
      ],
      "metadata": {
        "id": "xIuUIvoIv13w"
      },
      "execution_count": 33,
      "outputs": []
    },
    {
      "cell_type": "code",
      "source": [
        "family.traversal()"
      ],
      "metadata": {
        "colab": {
          "base_uri": "https://localhost:8080/"
        },
        "id": "2CJD92x3xjvc",
        "outputId": "ba65e208-1718-488b-e717-b3168a131c25"
      },
      "execution_count": 34,
      "outputs": [
        {
          "output_type": "stream",
          "name": "stdout",
          "text": [
            "Anton\n",
            "Bob\n",
            "Amy\n",
            "Max\n",
            "Jenny\n"
          ]
        }
      ]
    },
    {
      "cell_type": "code",
      "source": [
        "family.delete_tail()\n",
        "family.traversal()"
      ],
      "metadata": {
        "id": "Oy1OuycbzTna",
        "colab": {
          "base_uri": "https://localhost:8080/"
        },
        "outputId": "fb8c63e7-dbf6-4316-c17c-4c0dac7ad18f"
      },
      "execution_count": 36,
      "outputs": [
        {
          "output_type": "stream",
          "name": "stdout",
          "text": [
            "Anton\n",
            "Bob\n",
            "Amy\n"
          ]
        }
      ]
    },
    {
      "cell_type": "code",
      "source": [],
      "metadata": {
        "id": "IJG5PV7e6h6d"
      },
      "execution_count": null,
      "outputs": []
    },
    {
      "cell_type": "markdown",
      "source": [
        "# Divide & conquer"
      ],
      "metadata": {
        "id": "6b85xxUg7E5M"
      }
    },
    {
      "cell_type": "markdown",
      "source": [
        "## Merge sort"
      ],
      "metadata": {
        "id": "Vxx_Oiwl8mfr"
      }
    },
    {
      "cell_type": "code",
      "source": [
        "class Solution(object):\n",
        "  def sortAray(self, nums):\n",
        "    # brute force merge sort!\n",
        "    if len(nums) <= 1:\n",
        "      return nums\n",
        "\n",
        "    mid = len(nums) // 2\n",
        "    left = nums[:mid]\n",
        "    left_sorted = []\n",
        "\n",
        "    while left:\n",
        "      minimum = left[0]\n",
        "      for x in left:\n",
        "        if x < minimum:\n",
        "          minimum = x\n",
        "\n",
        "      left_sorted.append(minimum)\n",
        "      left.remove(minimum)\n",
        "\n",
        "    right = nums[mid:]\n",
        "    right_sorted = []\n",
        "\n",
        "    while right:\n",
        "      minimum = right[0]\n",
        "      for x in right:\n",
        "        if x < minimum:\n",
        "          minimum = x\n",
        "\n",
        "      right_sorted.append(minimum)\n",
        "      right.remove(minimum)\n",
        "\n",
        "    merge = []\n",
        "\n",
        "    while left_sorted and right_sorted:\n",
        "      if left_sorted[0] <= right_sorted[0]:\n",
        "        merge.append(left_sorted.pop(0))\n",
        "      else:\n",
        "        merge.append(right_sorted.pop(0))\n",
        "\n",
        "    merge.extend(right_sorted if right_sorted else left_sorted)\n",
        "    return merge\n",
        "\n",
        "\n",
        "\n",
        "\n",
        "\n"
      ],
      "metadata": {
        "id": "bdIcK-tC7HZG"
      },
      "execution_count": 41,
      "outputs": []
    },
    {
      "cell_type": "code",
      "source": [
        "sol = Solution()"
      ],
      "metadata": {
        "id": "5QyTv9YK_8nw"
      },
      "execution_count": 42,
      "outputs": []
    },
    {
      "cell_type": "code",
      "source": [
        "num = [5,2,3,1,7,6,54,3]\n",
        "print(sol.sortAray(num))"
      ],
      "metadata": {
        "colab": {
          "base_uri": "https://localhost:8080/"
        },
        "id": "pTnIIWbMCqDJ",
        "outputId": "83eb6cb6-bc7d-48c7-f4b1-5b14e4056b3d"
      },
      "execution_count": 45,
      "outputs": [
        {
          "output_type": "stream",
          "name": "stdout",
          "text": [
            "[1, 2, 3, 3, 5, 6, 7, 54]\n"
          ]
        }
      ]
    },
    {
      "cell_type": "markdown",
      "source": [
        "## Matrix multiplication"
      ],
      "metadata": {
        "id": "bMmILDJpDs1v"
      }
    },
    {
      "cell_type": "code",
      "source": [
        "X = [[1,2],\n",
        "     [2,3]]\n",
        "\n",
        "Y = [[2,3],\n",
        "     [3,4]]\n",
        "\n",
        "result = [[0,0],\n",
        "          [0,0]]"
      ],
      "metadata": {
        "id": "MXFpkT4RDZWB"
      },
      "execution_count": 47,
      "outputs": []
    },
    {
      "cell_type": "code",
      "source": [
        "for i in range(len(X)):\n",
        "  for j in range(len(Y[0])):\n",
        "    for k in range(len(Y)):\n",
        "      result[i][j] += X[i][k] * Y[k][j]\n",
        "\n",
        "print(result)\n"
      ],
      "metadata": {
        "colab": {
          "base_uri": "https://localhost:8080/"
        },
        "id": "dtCgpL8EEJ25",
        "outputId": "fb0bb4ef-edf0-42e6-ccd2-a474aeac5d72"
      },
      "execution_count": 50,
      "outputs": [
        {
          "output_type": "stream",
          "name": "stdout",
          "text": [
            "[[8, 11], [13, 18]]\n"
          ]
        }
      ]
    },
    {
      "cell_type": "markdown",
      "source": [
        "## Strassen Algorithm"
      ],
      "metadata": {
        "id": "-k1nJY0EE6Lh"
      }
    },
    {
      "cell_type": "code",
      "source": [
        "import numpy as np\n",
        "\n",
        "x = np.array([[1,2],\n",
        "     [2,3]])\n",
        "y = np.array([[2,3],\n",
        "     [3,4]])\n",
        "\n",
        "def strassen_iter(x, y):\n",
        "\n",
        "  a, b, c, d = x[0,0],x[0,1],x[1,0],x[1,1]\n",
        "  e, f, g, h = y[0,0],y[0,1],y[1,0],y[1,1]\n",
        "\n",
        "  p1 = a * (f - h)\n",
        "  p2 = (a + b) * h\n",
        "  p3 = (c + d) * e\n",
        "  p4 = d * (g - e)\n",
        "  p5 = (a + d) * (e + h)\n",
        "  p6 = (b - d) * (g + h)\n",
        "  p7 = (a - c) * (e + f)\n",
        "\n",
        "  c1 = (p5 + p4 - p2 + p6)\n",
        "  c2 = (p1 + p2)\n",
        "  c3 = (p3 + p4)\n",
        "  c4 = (p1+ p5 - p3 - p7)\n",
        "\n",
        "  return np.array([[c1,c2], [c3,c4]])"
      ],
      "metadata": {
        "id": "oMBRfmQfEiCR"
      },
      "execution_count": 56,
      "outputs": []
    },
    {
      "cell_type": "code",
      "source": [
        "print(strassen_iter(x, y))"
      ],
      "metadata": {
        "colab": {
          "base_uri": "https://localhost:8080/"
        },
        "id": "FL-VHInnFo1q",
        "outputId": "5f701212-f999-43ae-b823-30806018aeb6"
      },
      "execution_count": 57,
      "outputs": [
        {
          "output_type": "stream",
          "name": "stdout",
          "text": [
            "[[ 8 11]\n",
            " [13 18]]\n"
          ]
        }
      ]
    },
    {
      "cell_type": "markdown",
      "source": [
        "# Greedy Algorithms"
      ],
      "metadata": {
        "id": "DHo1t9znHvod"
      }
    },
    {
      "cell_type": "code",
      "source": [],
      "metadata": {
        "id": "QgjT6YHOG18a"
      },
      "execution_count": 58,
      "outputs": []
    },
    {
      "cell_type": "code",
      "source": [],
      "metadata": {
        "id": "W0dUB8-rHuW7"
      },
      "execution_count": null,
      "outputs": []
    }
  ]
}