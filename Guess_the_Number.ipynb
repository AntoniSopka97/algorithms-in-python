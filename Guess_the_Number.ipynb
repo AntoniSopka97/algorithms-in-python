{
  "nbformat": 4,
  "nbformat_minor": 0,
  "metadata": {
    "colab": {
      "provenance": [],
      "authorship_tag": "ABX9TyPTgqE2zfh4Alwe6D/3t24a",
      "include_colab_link": true
    },
    "kernelspec": {
      "name": "python3",
      "display_name": "Python 3"
    },
    "language_info": {
      "name": "python"
    }
  },
  "cells": [
    {
      "cell_type": "markdown",
      "metadata": {
        "id": "view-in-github",
        "colab_type": "text"
      },
      "source": [
        "<a href=\"https://colab.research.google.com/github/AntoniSopka97/algorithms-in-python/blob/main/Guess_the_Number.ipynb\" target=\"_parent\"><img src=\"https://colab.research.google.com/assets/colab-badge.svg\" alt=\"Open In Colab\"/></a>"
      ]
    },
    {
      "cell_type": "markdown",
      "source": [
        "# Игра, в угадай число, загаданное компьютером!"
      ],
      "metadata": {
        "id": "W52E76mjn5VF"
      }
    },
    {
      "cell_type": "code",
      "execution_count": 5,
      "metadata": {
        "colab": {
          "base_uri": "https://localhost:8080/"
        },
        "id": "d7pftLG-nnc5",
        "outputId": "f1f3a0cf-04a4-47f6-fa8e-9badf932af00"
      },
      "outputs": [
        {
          "name": "stdout",
          "output_type": "stream",
          "text": [
            "Guess a number between 1 and 10: 10\n",
            "Уour number is more than required (:\n",
            "Guess a number between 1 and 10: 3\n",
            "Уour number is less than required :)\n",
            "Guess a number between 1 and 10: 6\n",
            "Уour number is more than required (:\n",
            "Guess a number between 1 and 10: 5\n",
            "Yes you right!\n",
            "Restart: [yes/no]?\n",
            "no!\n"
          ]
        }
      ],
      "source": [
        "import random\n",
        "\n",
        "def guess_the_number(x):\n",
        "  random_number = random.randint(1, x)\n",
        "  guess = 0\n",
        "\n",
        "  while guess != random_number:\n",
        "    guess = int(input(f'Guess a number between 1 and {x}: '))\n",
        "\n",
        "    if guess == random_number:\n",
        "      print(\"Yes you right!\")\n",
        "      print(\"Restart: [yes/no]?\")\n",
        "      if input() == \"yes\":\n",
        "        guess_the_number(x)\n",
        "      else:\n",
        "        print(\"Thanks for Games!\")\n",
        "        break\n",
        "\n",
        "    elif guess < random_number:\n",
        "      print(\"Уour number is LESS than required :)\")\n",
        "    elif guess > random_number:\n",
        "      print(\"Уour number is MORE than required (:\")\n",
        "\n",
        "\n",
        "\n",
        "guess_the_number(10)"
      ]
    },
    {
      "cell_type": "markdown",
      "source": [
        "# Игра, компьютер угадывает твое число!"
      ],
      "metadata": {
        "id": "LaXw8jUe2eiX"
      }
    },
    {
      "cell_type": "code",
      "source": [
        "import random\n",
        "\n",
        "def get_guess(l,h):\n",
        "  print(l, h)\n",
        "  return random.randint(l, h)\n",
        "\n",
        "def computer_guess(x):\n",
        "  \"\"\"x, high border\"\"\"\n",
        "  low = 1\n",
        "  high = x\n",
        "\n",
        "\n",
        "  feedback = ''\n",
        "  while feedback != 'c':\n",
        "\n",
        "    if low != high:\n",
        "      guess = (low + high) // 2\n",
        "    else:\n",
        "      guess = low\n",
        "\n",
        "    while True:\n",
        "      feedback = input(f\"Is number = {guess}, too high (H) or too low (L), or correct (C)?: \").lower()\n",
        "      if feedback == 'h':\n",
        "        low = guess\n",
        "        guess = get_guess(low,high)\n",
        "\n",
        "      elif feedback == 'l':\n",
        "        high = guess\n",
        "        guess = get_guess(low,high)\n",
        "\n",
        "      elif feedback == 'c':\n",
        "        print(\"YES!!! Thanks for Games!\")\n",
        "        print(\"Restart: [Y/N]?\")\n",
        "        if input().lower() == \"y\":\n",
        "          computer_guess(x)\n",
        "        else:\n",
        "          print(\"Thanks for Games!\")\n",
        "          return None\n",
        "      else:\n",
        "        print(f\"Incorrect input, please use (H,L,C) symbol\")\n",
        "\n"
      ],
      "metadata": {
        "id": "WUGbDz2fo3uK"
      },
      "execution_count": 83,
      "outputs": []
    },
    {
      "cell_type": "code",
      "source": [
        "computer_guess(1000)"
      ],
      "metadata": {
        "colab": {
          "base_uri": "https://localhost:8080/"
        },
        "id": "j0YuD3hG5XZi",
        "outputId": "cff3a2fd-ead8-4833-d899-25d3c4e0a9d1"
      },
      "execution_count": 84,
      "outputs": [
        {
          "output_type": "stream",
          "name": "stdout",
          "text": [
            "Is number = 500, too high (H) or too low (L), or correct (C)?: h\n",
            "500 1000\n",
            "Is number = 704, too high (H) or too low (L), or correct (C)?: l\n",
            "500 704\n",
            "Is number = 697, too high (H) or too low (L), or correct (C)?: l\n",
            "500 697\n",
            "Is number = 506, too high (H) or too low (L), or correct (C)?: h\n",
            "506 697\n",
            "Is number = 593, too high (H) or too low (L), or correct (C)?: l\n",
            "506 593\n",
            "Is number = 562, too high (H) or too low (L), or correct (C)?: l\n",
            "506 562\n",
            "Is number = 528, too high (H) or too low (L), or correct (C)?: h\n",
            "528 562\n",
            "Is number = 546, too high (H) or too low (L), or correct (C)?: h\n",
            "546 562\n",
            "Is number = 562, too high (H) or too low (L), or correct (C)?: l\n",
            "546 562\n",
            "Is number = 562, too high (H) or too low (L), or correct (C)?: l\n",
            "546 562\n",
            "Is number = 560, too high (H) or too low (L), or correct (C)?: l\n",
            "546 560\n",
            "Is number = 558, too high (H) or too low (L), or correct (C)?: l\n",
            "546 558\n",
            "Is number = 548, too high (H) or too low (L), or correct (C)?: h\n",
            "548 558\n",
            "Is number = 554, too high (H) or too low (L), or correct (C)?: l\n",
            "548 554\n",
            "Is number = 550, too high (H) or too low (L), or correct (C)?: c\n",
            "YES!!! Thanks for Games!\n",
            "Restart: [Y/N]?\n",
            "n\n",
            "Thanks for Games!\n"
          ]
        }
      ]
    },
    {
      "cell_type": "code",
      "source": [
        "\n"
      ],
      "metadata": {
        "id": "ehrxq1ng5uKA"
      },
      "execution_count": 31,
      "outputs": []
    }
  ]
}