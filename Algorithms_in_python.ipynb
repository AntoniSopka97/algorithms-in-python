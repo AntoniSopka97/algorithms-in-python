{
  "nbformat": 4,
  "nbformat_minor": 0,
  "metadata": {
    "colab": {
      "provenance": [],
      "authorship_tag": "ABX9TyPi0L8mbVlInkcqgunwzpso",
      "include_colab_link": true
    },
    "kernelspec": {
      "name": "python3",
      "display_name": "Python 3"
    },
    "language_info": {
      "name": "python"
    }
  },
  "cells": [
    {
      "cell_type": "markdown",
      "metadata": {
        "id": "view-in-github",
        "colab_type": "text"
      },
      "source": [
        "<a href=\"https://colab.research.google.com/github/AntoniSopka97/algorithms-in-python/blob/main/Algorithms_in_python.ipynb\" target=\"_parent\"><img src=\"https://colab.research.google.com/assets/colab-badge.svg\" alt=\"Open In Colab\"/></a>"
      ]
    },
    {
      "cell_type": "markdown",
      "source": [
        "# Simple recursive Algorithms"
      ],
      "metadata": {
        "id": "bOo3ixphMkxg"
      }
    },
    {
      "cell_type": "markdown",
      "source": [
        "## Factorials\n",
        "<n! = (n - 0) * (n - 1) * (n - 2).....>\n"
      ],
      "metadata": {
        "id": "wMo6OQ9ENYT6"
      }
    },
    {
      "cell_type": "code",
      "source": [
        "def iterative_factorial(n):\n",
        "  fact = 1\n",
        "  for i in range(2, n + 1):\n",
        "    fact *= i\n",
        "\n",
        "  return fact"
      ],
      "metadata": {
        "id": "gUzGCeowMmlM"
      },
      "execution_count": null,
      "outputs": []
    },
    {
      "cell_type": "code",
      "source": [
        "print(iterative_factorial(5))"
      ],
      "metadata": {
        "colab": {
          "base_uri": "https://localhost:8080/"
        },
        "id": "WR135QtkOR2i",
        "outputId": "5c4626ae-d965-4517-8eb7-28ea56e7deaf"
      },
      "execution_count": null,
      "outputs": [
        {
          "output_type": "stream",
          "name": "stdout",
          "text": [
            "120\n"
          ]
        }
      ]
    },
    {
      "cell_type": "code",
      "source": [
        "def recur_factorial(n):\n",
        "  if n == 1 : return n\n",
        "  else: return n * recur_factorial(n - 1)\n"
      ],
      "metadata": {
        "id": "l7pR5LL0OUeH"
      },
      "execution_count": null,
      "outputs": []
    },
    {
      "cell_type": "code",
      "source": [
        "print(recur_factorial(5))"
      ],
      "metadata": {
        "colab": {
          "base_uri": "https://localhost:8080/"
        },
        "id": "7LpyDhPUOusx",
        "outputId": "08d7bdae-9995-4300-bb22-bfa4c1338a7f"
      },
      "execution_count": null,
      "outputs": [
        {
          "output_type": "stream",
          "name": "stdout",
          "text": [
            "120\n"
          ]
        }
      ]
    },
    {
      "cell_type": "markdown",
      "source": [
        "## Premutations\n"
      ],
      "metadata": {
        "id": "3jmVLq6RPnno"
      }
    },
    {
      "cell_type": "code",
      "source": [
        "# AB -> BA\n",
        "\n",
        "def permute(string: str, pocket = \"\"):\n",
        "  if len(string) == 0:\n",
        "    print(pocket)\n",
        "  else:\n",
        "    for i in range(len(string)):\n",
        "      letter = string[i]\n",
        "      front = string[0:i]\n",
        "      back = string[i+1:]\n",
        "      together = front + back\n",
        "      permute(together, letter + pocket)\n",
        "\n",
        "\n"
      ],
      "metadata": {
        "id": "lyhiRKAEOy-v"
      },
      "execution_count": null,
      "outputs": []
    },
    {
      "cell_type": "code",
      "source": [
        "print(permute(\"ABC\", \"\"))"
      ],
      "metadata": {
        "id": "jZ2wzZGLRi9P",
        "colab": {
          "base_uri": "https://localhost:8080/"
        },
        "outputId": "03563c8a-5a5c-465e-d2ac-dd9b4945fd4b"
      },
      "execution_count": null,
      "outputs": [
        {
          "output_type": "stream",
          "name": "stdout",
          "text": [
            "CBA\n",
            "BCA\n",
            "CAB\n",
            "ACB\n",
            "BAC\n",
            "ABC\n",
            "None\n"
          ]
        }
      ]
    },
    {
      "cell_type": "code",
      "source": [
        "from math import factorial\n",
        "\n",
        "def permutations(string):\n",
        "  for p in range(factorial(len(string))):\n",
        "    print(\"\".join(string))\n",
        "    i = len(string) - 1\n",
        "    while i > 0 and string[i - 1] > string[i]:\n",
        "      i -= 1\n",
        "    string[i:] = reversed(string[i:])\n",
        "    if i > 0:\n",
        "      q = i\n",
        "      while string[i - 1] > string[q]:\n",
        "        q += 1\n",
        "\n",
        "      temp = string[i - 1]\n",
        "      string[i - 1] = string[q]\n",
        "      string[q] = temp"
      ],
      "metadata": {
        "id": "ZZ5g_RrURsp9"
      },
      "execution_count": null,
      "outputs": []
    },
    {
      "cell_type": "code",
      "source": [
        "s = 'abc'\n",
        "s = list(s)\n",
        "print(permutations(s))"
      ],
      "metadata": {
        "colab": {
          "base_uri": "https://localhost:8080/"
        },
        "id": "wb398CL3Uy0y",
        "outputId": "639052d9-002d-42ed-c75a-92516c3ec24f"
      },
      "execution_count": null,
      "outputs": [
        {
          "output_type": "stream",
          "name": "stdout",
          "text": [
            "abc\n",
            "acb\n",
            "bac\n",
            "bca\n",
            "cab\n",
            "cba\n",
            "None\n"
          ]
        }
      ]
    },
    {
      "cell_type": "markdown",
      "source": [
        "# Search and Sort"
      ],
      "metadata": {
        "id": "xeW7PXnFYwfE"
      }
    },
    {
      "cell_type": "markdown",
      "source": [
        "## 1. Linear Search"
      ],
      "metadata": {
        "id": "EB3OBihUckpe"
      }
    },
    {
      "cell_type": "code",
      "source": [
        "def linear_search(arr : list, target : int):\n",
        "  for i in range(len(arr)):\n",
        "\n",
        "    if arr[i] == target:\n",
        "      return i"
      ],
      "metadata": {
        "id": "wvg4U-_Xcjr2"
      },
      "execution_count": null,
      "outputs": []
    },
    {
      "cell_type": "code",
      "source": [
        "arr = [2,5,8,3,12,44,99,1]\n",
        "print(linear_search(arr, 3))"
      ],
      "metadata": {
        "colab": {
          "base_uri": "https://localhost:8080/"
        },
        "id": "pM9RDiVVU7mX",
        "outputId": "0e202cbd-2d5a-41b9-e3e6-ecb128933385"
      },
      "execution_count": null,
      "outputs": [
        {
          "output_type": "stream",
          "name": "stdout",
          "text": [
            "3\n"
          ]
        }
      ]
    },
    {
      "cell_type": "markdown",
      "source": [
        "## 2. Binary search"
      ],
      "metadata": {
        "id": "OTiCnGn2dfi-"
      }
    },
    {
      "cell_type": "code",
      "source": [
        "def binary_search(arr, start, end, target):\n",
        "\n",
        "  if end == 0 or end is None:\n",
        "    end = len(arr) - 1\n",
        "\n",
        "\n",
        "  while start <= end:\n",
        "\n",
        "    mid = (start + end)//2\n",
        "\n",
        "    if arr[mid] < target:\n",
        "      start = mid + 1\n",
        "\n",
        "    elif arr[mid] > target:\n",
        "      end = mid - 1\n",
        "\n",
        "    else:\n",
        "      return mid\n",
        "\n",
        "  return -1\n"
      ],
      "metadata": {
        "id": "y8l6QhL9de8I"
      },
      "execution_count": null,
      "outputs": []
    },
    {
      "cell_type": "code",
      "source": [
        "arr = [2,5,9,10,88,102,422,722]\n",
        "target = 10\n",
        "\n",
        "result = binary_search(arr, 0, 0, target)\n",
        "\n",
        "if result != -1:\n",
        "  print(f\"Element, target is equals {target}, is present at index {result}\")\n",
        "else:\n",
        "  print(f\"Element {target}, is not array\")"
      ],
      "metadata": {
        "colab": {
          "base_uri": "https://localhost:8080/"
        },
        "id": "1No1jnvvdWFd",
        "outputId": "0f2821fc-3958-4c51-f72a-6f77fd5724bb"
      },
      "execution_count": null,
      "outputs": [
        {
          "output_type": "stream",
          "name": "stdout",
          "text": [
            "Element, target is equals 10, is present at index 3\n"
          ]
        }
      ]
    },
    {
      "cell_type": "markdown",
      "source": [
        "## 3. Bubble sort"
      ],
      "metadata": {
        "id": "W4Px7yYagmE_"
      }
    },
    {
      "cell_type": "code",
      "source": [
        "def bubble_optimized(A):\n",
        "  iterations = 0\n",
        "  for i in range(len(A)):\n",
        "    for j in range(len(A) - i - 1):\n",
        "      iterations += 1\n",
        "      if A[j] > A[j + 1]:\n",
        "        A[j], A[j + 1] = A[j + 1], A[j]\n",
        "\n",
        "  return A, iterations"
      ],
      "metadata": {
        "id": "KOG-j3ChfIlH"
      },
      "execution_count": null,
      "outputs": []
    },
    {
      "cell_type": "code",
      "source": [
        "A = [9,8,7,5,6,4,3,2,1]\n",
        "\n",
        "print(bubble_optimized(A))"
      ],
      "metadata": {
        "colab": {
          "base_uri": "https://localhost:8080/"
        },
        "id": "oIY_Nv6PhtU8",
        "outputId": "4a09eca0-0378-479f-8ae5-f20ba55fece3"
      },
      "execution_count": null,
      "outputs": [
        {
          "output_type": "stream",
          "name": "stdout",
          "text": [
            "([1, 2, 3, 4, 5, 6, 7, 8, 9], 36)\n"
          ]
        }
      ]
    },
    {
      "cell_type": "markdown",
      "source": [
        "## 4. Insertion Sort"
      ],
      "metadata": {
        "id": "k1vwq30BiwSP"
      }
    },
    {
      "cell_type": "code",
      "source": [
        "def insert_sort(A):\n",
        "\n",
        "  for step in range(1, len(A)):\n",
        "\n",
        "        key = A[step]\n",
        "        j = step - 1\n",
        "\n",
        "        while j >= 0 and key < A[j]:\n",
        "            A[j + 1] = A[j]\n",
        "            j = j - 1\n",
        "        A[j + 1] = key\n",
        "\n",
        "  return A"
      ],
      "metadata": {
        "id": "Bs9a3Iruh3rb"
      },
      "execution_count": null,
      "outputs": []
    },
    {
      "cell_type": "code",
      "source": [
        "A = [5,2,4,6,1,3]\n",
        "print(insert_sort(A))"
      ],
      "metadata": {
        "colab": {
          "base_uri": "https://localhost:8080/"
        },
        "id": "3syyU6fIoowG",
        "outputId": "58f3debb-4777-42f2-ec31-3c734169c061"
      },
      "execution_count": null,
      "outputs": [
        {
          "output_type": "stream",
          "name": "stdout",
          "text": [
            "[1, 2, 3, 4, 5, 6]\n"
          ]
        }
      ]
    },
    {
      "cell_type": "markdown",
      "source": [
        "# Linked List"
      ],
      "metadata": {
        "id": "6UdK89MSskDZ"
      }
    },
    {
      "cell_type": "code",
      "source": [
        "class Node:\n",
        "  def __init__(self, data):\n",
        "    self.data = data\n",
        "    self.next = None\n",
        "\n",
        "class LinkedList:\n",
        "\n",
        "  def traversal(self):\n",
        "    first = self.head\n",
        "    while first:\n",
        "      print(first.data)\n",
        "      first = first.next\n",
        "\n",
        "  def insert_new_header(self, new_data):\n",
        "    new_node = Node(new_data)\n",
        "    new_node.next = self.head\n",
        "    self.head = new_node\n",
        "\n",
        "  def search(self, x):\n",
        "    temp = self.head\n",
        "    while temp is not None:\n",
        "\n",
        "      if temp.data == x:\n",
        "        return True\n",
        "\n",
        "      temp = temp.next\n",
        "\n",
        "    else:\n",
        "        return False\n",
        "\n",
        "\n",
        "  def delete_node(self, data):\n",
        "    temp = self.head\n",
        "    while temp is not None:\n",
        "      if temp.data == data:\n",
        "        break\n",
        "      prev = temp\n",
        "      temp = temp.next\n",
        "    self.next = temp.next\n",
        "\n",
        "  def delete_tail(self):\n",
        "    temp = self.head\n",
        "    while temp.next.next is not None:\n",
        "      temp = temp.next\n",
        "\n",
        "    temp.next = None\n",
        "\n",
        "\n"
      ],
      "metadata": {
        "id": "39S8CLbmo1sU"
      },
      "execution_count": null,
      "outputs": []
    },
    {
      "cell_type": "code",
      "source": [
        "\n",
        "family = LinkedList()\n",
        "family.head = Node(\"Bob\")\n",
        "wife = Node(\"Amy\")\n",
        "first_kid = Node(\"Max\")\n",
        "second_kid = Node(\"Jenny\")\n"
      ],
      "metadata": {
        "id": "XO7r9x2PtLTv"
      },
      "execution_count": null,
      "outputs": []
    },
    {
      "cell_type": "code",
      "source": [
        "family.head.next = wife\n",
        "wife.next = first_kid\n",
        "first_kid.next = second_kid"
      ],
      "metadata": {
        "id": "ah71wXjvtM5S"
      },
      "execution_count": null,
      "outputs": []
    },
    {
      "cell_type": "code",
      "source": [
        "family.traversal()"
      ],
      "metadata": {
        "colab": {
          "base_uri": "https://localhost:8080/"
        },
        "id": "xKIg6DwKtrq5",
        "outputId": "450466d5-6904-4f20-c683-5dcb6f5ffb5c"
      },
      "execution_count": null,
      "outputs": [
        {
          "output_type": "stream",
          "name": "stdout",
          "text": [
            "Bob\n",
            "Amy\n",
            "Max\n",
            "Jenny\n"
          ]
        }
      ]
    },
    {
      "cell_type": "code",
      "source": [
        "family.insert_new_header(\"Anton\")\n",
        "family.traversal()"
      ],
      "metadata": {
        "colab": {
          "base_uri": "https://localhost:8080/"
        },
        "id": "BORTweMkuqB3",
        "outputId": "e756ddda-a8d9-4078-8a7d-6485dbf26c4a"
      },
      "execution_count": null,
      "outputs": [
        {
          "output_type": "stream",
          "name": "stdout",
          "text": [
            "Anton\n",
            "Bob\n",
            "Amy\n",
            "Max\n",
            "Jenny\n"
          ]
        }
      ]
    },
    {
      "cell_type": "code",
      "source": [
        "print(family.search(\"Anton\"))"
      ],
      "metadata": {
        "colab": {
          "base_uri": "https://localhost:8080/"
        },
        "id": "WxlJN6JHvly2",
        "outputId": "7dc3c0a6-2e32-4d7a-fc70-c0af3e5a7214"
      },
      "execution_count": null,
      "outputs": [
        {
          "output_type": "stream",
          "name": "stdout",
          "text": [
            "True\n"
          ]
        }
      ]
    },
    {
      "cell_type": "code",
      "source": [
        "family.delete_node(\"Anton\")"
      ],
      "metadata": {
        "id": "xIuUIvoIv13w"
      },
      "execution_count": null,
      "outputs": []
    },
    {
      "cell_type": "code",
      "source": [
        "family.traversal()"
      ],
      "metadata": {
        "colab": {
          "base_uri": "https://localhost:8080/"
        },
        "id": "2CJD92x3xjvc",
        "outputId": "c0105ece-85b1-4254-de9a-8986bd2192a8"
      },
      "execution_count": null,
      "outputs": [
        {
          "output_type": "stream",
          "name": "stdout",
          "text": [
            "Anton\n",
            "Bob\n",
            "Amy\n",
            "Max\n",
            "Jenny\n"
          ]
        }
      ]
    },
    {
      "cell_type": "code",
      "source": [
        "family.delete_tail()\n",
        "family.traversal()"
      ],
      "metadata": {
        "id": "Oy1OuycbzTna",
        "colab": {
          "base_uri": "https://localhost:8080/"
        },
        "outputId": "bb25680b-3a99-4739-a23e-00ca5f8e12e9"
      },
      "execution_count": null,
      "outputs": [
        {
          "output_type": "stream",
          "name": "stdout",
          "text": [
            "Anton\n",
            "Bob\n",
            "Amy\n",
            "Max\n"
          ]
        }
      ]
    },
    {
      "cell_type": "code",
      "source": [],
      "metadata": {
        "id": "IJG5PV7e6h6d"
      },
      "execution_count": null,
      "outputs": []
    },
    {
      "cell_type": "markdown",
      "source": [
        "# Divide & conquer"
      ],
      "metadata": {
        "id": "6b85xxUg7E5M"
      }
    },
    {
      "cell_type": "markdown",
      "source": [
        "## Merge sort"
      ],
      "metadata": {
        "id": "Vxx_Oiwl8mfr"
      }
    },
    {
      "cell_type": "code",
      "source": [
        "class Solution(object):\n",
        "  def sortAray(self, nums):\n",
        "    # brute force merge sort!\n",
        "    if len(nums) <= 1:\n",
        "      return nums\n",
        "\n",
        "    mid = len(nums) // 2\n",
        "    left = nums[:mid]\n",
        "    left_sorted = []\n",
        "\n",
        "    while left:\n",
        "      minimum = left[0]\n",
        "      for x in left:\n",
        "        if x < minimum:\n",
        "          minimum = x\n",
        "\n",
        "      left_sorted.append(minimum)\n",
        "      left.remove(minimum)\n",
        "\n",
        "    right = nums[mid:]\n",
        "    right_sorted = []\n",
        "\n",
        "    while right:\n",
        "      minimum = right[0]\n",
        "      for x in right:\n",
        "        if x < minimum:\n",
        "          minimum = x\n",
        "\n",
        "      right_sorted.append(minimum)\n",
        "      right.remove(minimum)\n",
        "\n",
        "    merge = []\n",
        "\n",
        "    while left_sorted and right_sorted:\n",
        "      if left_sorted[0] <= right_sorted[0]:\n",
        "        merge.append(left_sorted.pop(0))\n",
        "      else:\n",
        "        merge.append(right_sorted.pop(0))\n",
        "\n",
        "    merge.extend(right_sorted if right_sorted else left_sorted)\n",
        "    return merge\n",
        "\n",
        "\n",
        "\n",
        "\n",
        "\n"
      ],
      "metadata": {
        "id": "bdIcK-tC7HZG"
      },
      "execution_count": null,
      "outputs": []
    },
    {
      "cell_type": "code",
      "source": [
        "sol = Solution()"
      ],
      "metadata": {
        "id": "5QyTv9YK_8nw"
      },
      "execution_count": null,
      "outputs": []
    },
    {
      "cell_type": "code",
      "source": [
        "num = [5,2,3,1,7,6,54,3]\n",
        "print(sol.sortAray(num))"
      ],
      "metadata": {
        "colab": {
          "base_uri": "https://localhost:8080/"
        },
        "id": "pTnIIWbMCqDJ",
        "outputId": "899ad03d-7162-4452-e909-9ec64e2877d4"
      },
      "execution_count": null,
      "outputs": [
        {
          "output_type": "stream",
          "name": "stdout",
          "text": [
            "[1, 2, 3, 3, 5, 6, 7, 54]\n"
          ]
        }
      ]
    },
    {
      "cell_type": "markdown",
      "source": [
        "## Matrix multiplication"
      ],
      "metadata": {
        "id": "bMmILDJpDs1v"
      }
    },
    {
      "cell_type": "code",
      "source": [
        "X = [[1,2],\n",
        "     [2,3]]\n",
        "\n",
        "Y = [[2,3],\n",
        "     [3,4]]\n",
        "\n",
        "result = [[0,0],\n",
        "          [0,0]]"
      ],
      "metadata": {
        "id": "MXFpkT4RDZWB"
      },
      "execution_count": null,
      "outputs": []
    },
    {
      "cell_type": "code",
      "source": [
        "for i in range(len(X)):\n",
        "  for j in range(len(Y[0])):\n",
        "    for k in range(len(Y)):\n",
        "      result[i][j] += X[i][k] * Y[k][j]\n",
        "\n",
        "print(result)\n"
      ],
      "metadata": {
        "colab": {
          "base_uri": "https://localhost:8080/"
        },
        "id": "dtCgpL8EEJ25",
        "outputId": "51007711-0c92-4ecc-fc79-35a9502112a8"
      },
      "execution_count": null,
      "outputs": [
        {
          "output_type": "stream",
          "name": "stdout",
          "text": [
            "[[8, 11], [13, 18]]\n"
          ]
        }
      ]
    },
    {
      "cell_type": "markdown",
      "source": [
        "## Strassen Algorithm"
      ],
      "metadata": {
        "id": "-k1nJY0EE6Lh"
      }
    },
    {
      "cell_type": "code",
      "source": [
        "import numpy as np\n",
        "\n",
        "x = np.array([[1,2],\n",
        "     [2,3]])\n",
        "y = np.array([[2,3],\n",
        "     [3,4]])\n",
        "\n",
        "def strassen_iter(x, y):\n",
        "\n",
        "  a, b, c, d = x[0,0],x[0,1],x[1,0],x[1,1]\n",
        "  e, f, g, h = y[0,0],y[0,1],y[1,0],y[1,1]\n",
        "\n",
        "  p1 = a * (f - h)\n",
        "  p2 = (a + b) * h\n",
        "  p3 = (c + d) * e\n",
        "  p4 = d * (g - e)\n",
        "  p5 = (a + d) * (e + h)\n",
        "  p6 = (b - d) * (g + h)\n",
        "  p7 = (a - c) * (e + f)\n",
        "\n",
        "  c1 = (p5 + p4 - p2 + p6)\n",
        "  c2 = (p1 + p2)\n",
        "  c3 = (p3 + p4)\n",
        "  c4 = (p1+ p5 - p3 - p7)\n",
        "\n",
        "  return np.array([[c1,c2], [c3,c4]])"
      ],
      "metadata": {
        "id": "oMBRfmQfEiCR"
      },
      "execution_count": null,
      "outputs": []
    },
    {
      "cell_type": "code",
      "source": [
        "print(strassen_iter(x, y))"
      ],
      "metadata": {
        "colab": {
          "base_uri": "https://localhost:8080/"
        },
        "id": "FL-VHInnFo1q",
        "outputId": "035e1faa-699a-40d3-e156-64133da65369"
      },
      "execution_count": null,
      "outputs": [
        {
          "output_type": "stream",
          "name": "stdout",
          "text": [
            "[[ 8 11]\n",
            " [13 18]]\n"
          ]
        }
      ]
    },
    {
      "cell_type": "markdown",
      "source": [
        "# Greedy Algorithms"
      ],
      "metadata": {
        "id": "DHo1t9znHvod"
      }
    },
    {
      "cell_type": "markdown",
      "source": [
        "## Assign Mice to Holes"
      ],
      "metadata": {
        "id": "jvAuElG2Idj3"
      }
    },
    {
      "cell_type": "code",
      "source": [
        "def assignHole(mice, holes):\n",
        "  if len(mice) != len(holes):\n",
        "    return \"Number of mice and holes not the same\"\n",
        "\n",
        "  mice.sort()\n",
        "  holes.sort()\n",
        "\n",
        "  max_diff = 0\n",
        "\n",
        "  for i in range(len(mice)):\n",
        "    if max_diff < abs(mice[i] - holes[i]):\n",
        "      max_diff = abs(mice[i] - holes[i])\n",
        "\n",
        "  return max_diff\n",
        "\n"
      ],
      "metadata": {
        "id": "QgjT6YHOG18a"
      },
      "execution_count": null,
      "outputs": []
    },
    {
      "cell_type": "code",
      "source": [
        "mice = [4,-4,2]\n",
        "holes = [4, 0, 5]\n",
        "\n",
        "min_time = assignHole(mice, holes)\n",
        "print(min_time)"
      ],
      "metadata": {
        "colab": {
          "base_uri": "https://localhost:8080/"
        },
        "id": "W0dUB8-rHuW7",
        "outputId": "45241606-cbeb-4ecb-fb87-b13ad2e3a5ec"
      },
      "execution_count": null,
      "outputs": [
        {
          "output_type": "stream",
          "name": "stdout",
          "text": [
            "4\n"
          ]
        }
      ]
    },
    {
      "cell_type": "markdown",
      "source": [
        "## Fraction knapsack"
      ],
      "metadata": {
        "id": "I_HW4Z0pKS-I"
      }
    },
    {
      "cell_type": "code",
      "source": [
        "weight = [30, 50, 10, 70, 40]\n",
        "value = [150, 100, 90, 140, 120]\n",
        "capacity = 150"
      ],
      "metadata": {
        "id": "1ounEO0yJ3zM"
      },
      "execution_count": null,
      "outputs": []
    },
    {
      "cell_type": "code",
      "source": [
        "def fractional_knapsack(value, weight, capacity):\n",
        "\n",
        "  items = list(range(len(value)))\n",
        "  print(items)\n",
        "  ratio = [v//w for v, w in zip(value, weight)]\n",
        "  print(ratio)\n",
        "  srt_ratios = sorted(ratio, reverse = True)\n",
        "  print(srt_ratios)\n",
        "  items.sort(key = lambda i: ratio[i], reverse = True)\n",
        "\n",
        "  max_value = 0\n",
        "  fractions = [0] * len(value)\n",
        "  print(fractions)\n",
        "\n",
        "  for i in items:\n",
        "    if weight[i] <= capacity:\n",
        "      fractions[i] = 1\n",
        "      max_value += value[i]\n",
        "      capacity -= weight[i]\n",
        "    else:\n",
        "      fractions[i] = capacity // weight[i]\n",
        "      max_value += value[i] * capacity // weight[i]\n",
        "  print(fractions)\n",
        "  return max_value"
      ],
      "metadata": {
        "id": "bQjn66GzKH7z"
      },
      "execution_count": null,
      "outputs": []
    },
    {
      "cell_type": "code",
      "source": [
        "print(fractional_knapsack(value, weight, capacity))"
      ],
      "metadata": {
        "colab": {
          "base_uri": "https://localhost:8080/"
        },
        "id": "9DEXF8_kM6h9",
        "outputId": "e541f98a-f723-4185-c38b-3f8ac3f4a65f"
      },
      "execution_count": null,
      "outputs": [
        {
          "output_type": "stream",
          "name": "stdout",
          "text": [
            "[0, 1, 2, 3, 4]\n",
            "[5, 2, 9, 2, 3]\n",
            "[9, 5, 3, 2, 2]\n",
            "[0, 0, 0, 0, 0]\n",
            "[1, 1, 1, 0, 1]\n",
            "500\n"
          ]
        }
      ]
    },
    {
      "cell_type": "markdown",
      "source": [
        "## Eguptian Fractions"
      ],
      "metadata": {
        "id": "ioDhrzHLTIWi"
      }
    },
    {
      "cell_type": "code",
      "source": [
        "import math\n",
        "import fractions\n",
        "import functools"
      ],
      "metadata": {
        "id": "lFMgqGWZM_ml"
      },
      "execution_count": 2,
      "outputs": []
    },
    {
      "cell_type": "code",
      "source": [
        "def run():\n",
        "  f = fractions.Fraction(3,4)\n",
        "  e = to_egyptian_fractions(f)\n",
        "  print(*e, sep=\" + \")\n",
        "  f = fractions.Fraction(6,7)\n",
        "  e = to_egyptian_fractions(f)\n",
        "  print(*e, sep=\" + \")\n",
        "  f = fractions.Fraction(7654,321)\n",
        "  e = to_egyptian_fractions(f)\n",
        "  print(*e, sep=\" + \")\n",
        "\n",
        "\n",
        "\n",
        "def validate(function):\n",
        "    @functools.wraps(function)\n",
        "    def wrapper(fraction):\n",
        "        total = fractions.Fraction(0)\n",
        "        for egyptian in function(fraction):\n",
        "            if 1 not in {egyptian.numerator, egyptian.denominator}:\n",
        "                raise AssertionError('function has failed validation')\n",
        "            yield egyptian\n",
        "            total += egyptian\n",
        "        if total != fraction:\n",
        "            raise AssertionError('function has failed validation')\n",
        "    return wrapper\n",
        "\n",
        "\n",
        "@validate\n",
        "def to_egyptian_fractions(fraction):\n",
        "    quotient = math.floor(fraction.numerator / fraction.denominator)\n",
        "    if quotient:\n",
        "        egyptian = fractions.Fraction(quotient, 1)\n",
        "        yield egyptian\n",
        "        fraction -= egyptian\n",
        "    while fraction:\n",
        "        quotient = math.ceil(fraction.denominator / fraction.numerator)\n",
        "        egyptian = fractions.Fraction(1, quotient)\n",
        "        yield egyptian\n",
        "        fraction -= egyptian\n",
        "\n",
        "\n",
        "def egyptian_fraction(numerator, denominator):\n",
        "  egypt_list = []\n",
        "  while numerator != 0:\n",
        "\n",
        "    x = math.ceil(denominator/numerator)\n",
        "    egypt_list.append(x)\n",
        "\n",
        "    numerator = x * numerator - denominator\n",
        "    denominator *=x\n",
        "\n",
        "\n",
        "  le = \"\"\n",
        "\n",
        "  for ones in egypt_list:\n",
        "    le += \"1/{0} + \".format(ones)\n",
        "\n",
        "  final_str = le[:-3]\n",
        "  return final_str\n",
        "\n",
        "\n"
      ],
      "metadata": {
        "id": "X3RYrf_rUBT5"
      },
      "execution_count": 7,
      "outputs": []
    },
    {
      "cell_type": "code",
      "source": [
        "run()"
      ],
      "metadata": {
        "colab": {
          "base_uri": "https://localhost:8080/"
        },
        "id": "8D8GtbfdVcif",
        "outputId": "96ba19a9-f718-4eda-d236-c55674294006"
      },
      "execution_count": 8,
      "outputs": [
        {
          "output_type": "stream",
          "name": "stdout",
          "text": [
            "1/2 + 1/4\n",
            "1/2 + 1/3 + 1/42\n",
            "23 + 1/2 + 1/3 + 1/92 + 1/29532\n"
          ]
        }
      ]
    },
    {
      "cell_type": "code",
      "source": [
        "print(egyptian_fraction(810 , 1000))"
      ],
      "metadata": {
        "id": "qNB8KvtXXCx2",
        "colab": {
          "base_uri": "https://localhost:8080/"
        },
        "outputId": "8b3afcf2-2896-46d1-bf7d-36414ca1886b"
      },
      "execution_count": 11,
      "outputs": [
        {
          "output_type": "stream",
          "name": "stdout",
          "text": [
            "1/2 + 1/4 + 1/17 + 1/850\n"
          ]
        }
      ]
    },
    {
      "cell_type": "markdown",
      "source": [
        "# Dynamic Programming"
      ],
      "metadata": {
        "id": "7mb9qbwKIvD4"
      }
    },
    {
      "cell_type": "markdown",
      "source": [
        "## Ugly numbers"
      ],
      "metadata": {
        "id": "cuy3TMf6Kl9n"
      }
    },
    {
      "cell_type": "code",
      "source": [
        "def successive_div(x, y):\n",
        "  while x % y == 0:\n",
        "    x = x // y\n",
        "\n",
        "  return x\n",
        "\n",
        "def ugly_check(num):\n",
        "  num = successive_div(num, 2)\n",
        "  num = successive_div(num, 3)\n",
        "  num = successive_div(num, 5)\n",
        "\n",
        "  return True if num == 1 else False\n",
        "\n",
        "\n",
        "\n",
        "def  nth_ugly(n):\n",
        "  i = 1\n",
        "  counter = 1\n",
        "\n",
        "  while n > counter:\n",
        "    i += 1\n",
        "    if ugly_check(i):\n",
        "      counter += 1\n",
        "  return i"
      ],
      "metadata": {
        "id": "JKnIoHwEITDm"
      },
      "execution_count": 28,
      "outputs": []
    },
    {
      "cell_type": "code",
      "source": [
        "print(nth_ugly(100))"
      ],
      "metadata": {
        "colab": {
          "base_uri": "https://localhost:8080/"
        },
        "id": "Z37HG-51LxcF",
        "outputId": "478f21c1-cc52-4012-f1f6-c4727980cb12"
      },
      "execution_count": 30,
      "outputs": [
        {
          "output_type": "stream",
          "name": "stdout",
          "text": [
            "1536\n"
          ]
        }
      ]
    },
    {
      "cell_type": "code",
      "source": [
        "def nthUgly(n):\n",
        "  dpUgly = [0] * n\n",
        "  dpUgly[0] = 1\n",
        "\n",
        "  u2 = u3 = u5 = 0\n",
        "\n",
        "  multiple2 = 2\n",
        "  multiple3 = 3\n",
        "  multiple5 = 5\n",
        "\n",
        "  for i in range(1, n):\n",
        "    dpUgly[i] = min(multiple2, multiple3, multiple5)\n",
        "\n",
        "    if dpUgly[i] == multiple2:\n",
        "      u2 += 1\n",
        "      multiple2 = dpUgly[u2] * 2\n",
        "\n",
        "    if dpUgly[i] == multiple3:\n",
        "      u3 += 1\n",
        "      multiple3 = dpUgly[u3] * 3\n",
        "\n",
        "    if dpUgly[i] == multiple5:\n",
        "      u5 += 1\n",
        "      multiple5 = dpUgly[u5] * 5\n",
        "\n",
        "  return dpUgly[n - 1]\n"
      ],
      "metadata": {
        "id": "ifgiP7zVMHUm"
      },
      "execution_count": 31,
      "outputs": []
    },
    {
      "cell_type": "code",
      "source": [
        "print(nthUgly(1000))"
      ],
      "metadata": {
        "colab": {
          "base_uri": "https://localhost:8080/"
        },
        "id": "Vwdv1Sk_N33H",
        "outputId": "ab96cd4a-ebde-4c05-e44d-922e755a6e54"
      },
      "execution_count": 32,
      "outputs": [
        {
          "output_type": "stream",
          "name": "stdout",
          "text": [
            "51200000\n"
          ]
        }
      ]
    },
    {
      "cell_type": "markdown",
      "source": [
        "## TSP algorithm"
      ],
      "metadata": {
        "id": "R4vXZw38PfX_"
      }
    },
    {
      "cell_type": "code",
      "source": [
        "from itertools import permutations\n",
        "V = 4\n",
        "\n",
        "def travel_salesman_problem(graph, s):\n",
        "  vertex = []\n",
        "  for i in range(V):\n",
        "    if i != s:\n",
        "      vertex.append(i)\n",
        "      print(vertex)\n",
        "\n",
        "  min_path = []\n",
        "  next_permutation = permutations(vertex)\n",
        "\n",
        "  for i in next_permutation:\n",
        "    current_pathweight = 0\n",
        "\n",
        "    k = s\n",
        "    for j in i:\n",
        "      current_pathweight += graph[k][j]\n",
        "      print(i,j, current_pathweight, graph[k][j])\n",
        "\n",
        "      k = j\n",
        "\n",
        "    current_pathweight += graph[k][j]\n",
        "    min_path.append(current_pathweight)\n",
        "    x = sorted(min_path)\n",
        "\n",
        "\n",
        "  return x[0]\n",
        "\n",
        "\n",
        "if __name__ == \"__main__\":\n",
        "  graph = [[0,10,15,20],\n",
        "           [10,0,35,25],\n",
        "           [15, 35, 0,30],\n",
        "           [20,25,30,0]]\n",
        "\n",
        "s = 0\n",
        "print(travel_salesman_problem(graph, s))"
      ],
      "metadata": {
        "colab": {
          "base_uri": "https://localhost:8080/"
        },
        "id": "oU353HiWN7wH",
        "outputId": "2817f5f7-df9c-4b55-e035-47aff42b87c2"
      },
      "execution_count": 36,
      "outputs": [
        {
          "output_type": "stream",
          "name": "stdout",
          "text": [
            "[1]\n",
            "[1, 2]\n",
            "[1, 2, 3]\n",
            "(1, 2, 3) 1 10 10\n",
            "(1, 2, 3) 2 45 35\n",
            "(1, 2, 3) 3 75 30\n",
            "(1, 3, 2) 1 10 10\n",
            "(1, 3, 2) 3 35 25\n",
            "(1, 3, 2) 2 65 30\n",
            "(2, 1, 3) 2 15 15\n",
            "(2, 1, 3) 1 50 35\n",
            "(2, 1, 3) 3 75 25\n",
            "(2, 3, 1) 2 15 15\n",
            "(2, 3, 1) 3 45 30\n",
            "(2, 3, 1) 1 70 25\n",
            "(3, 1, 2) 3 20 20\n",
            "(3, 1, 2) 1 45 25\n",
            "(3, 1, 2) 2 80 35\n",
            "(3, 2, 1) 3 20 20\n",
            "(3, 2, 1) 2 50 30\n",
            "(3, 2, 1) 1 85 35\n",
            "65\n"
          ]
        }
      ]
    },
    {
      "cell_type": "markdown",
      "source": [
        "# Palindrome"
      ],
      "metadata": {
        "id": "8HkyHfCtU_sZ"
      }
    },
    {
      "cell_type": "code",
      "source": [
        "def paths(m,n):\n",
        "  row  = [1] * n\n",
        "  print(row)\n",
        "\n",
        "  for i in range(m - 1):\n",
        "    newRow = [1] * n\n",
        "    for j in range(n - 2, -1, -1):\n",
        "      newRow[j] = newRow[j + 1] + row[j]\n",
        "    row = newRow\n",
        "    print(row)\n",
        "  return row[0]\n",
        ""
      ],
      "metadata": {
        "id": "Vt_9xt_PPeTw"
      },
      "execution_count": 38,
      "outputs": []
    },
    {
      "cell_type": "code",
      "source": [
        "print(paths(10,10))"
      ],
      "metadata": {
        "colab": {
          "base_uri": "https://localhost:8080/"
        },
        "id": "xHNaaB_BVVRy",
        "outputId": "38e333c7-ed47-4be8-fffd-7f0e701bcd2b"
      },
      "execution_count": 41,
      "outputs": [
        {
          "output_type": "stream",
          "name": "stdout",
          "text": [
            "[1, 1, 1, 1, 1, 1, 1, 1, 1, 1]\n",
            "[10, 9, 8, 7, 6, 5, 4, 3, 2, 1]\n",
            "[55, 45, 36, 28, 21, 15, 10, 6, 3, 1]\n",
            "[220, 165, 120, 84, 56, 35, 20, 10, 4, 1]\n",
            "[715, 495, 330, 210, 126, 70, 35, 15, 5, 1]\n",
            "[2002, 1287, 792, 462, 252, 126, 56, 21, 6, 1]\n",
            "[5005, 3003, 1716, 924, 462, 210, 84, 28, 7, 1]\n",
            "[11440, 6435, 3432, 1716, 792, 330, 120, 36, 8, 1]\n",
            "[24310, 12870, 6435, 3003, 1287, 495, 165, 45, 9, 1]\n",
            "[48620, 24310, 11440, 5005, 2002, 715, 220, 55, 10, 1]\n",
            "48620\n"
          ]
        }
      ]
    },
    {
      "cell_type": "code",
      "source": [
        "import itertools\n",
        "a = [['a', 'b', 'a'],\n",
        "     ['a', 'b', 'b'],\n",
        "     ['b', 'a', 'b']]\n",
        "\n",
        "x = list(itertools.product(*a))\n",
        "#print(x)\n",
        "\n",
        "p_1 = []\n",
        "\n",
        "for i in x:\n",
        "  y = \"\".join(i)\n",
        "  p_1.append(y)\n",
        "\n",
        "\n",
        "def isPalin_2(p_1):\n",
        "  p_2 = []\n",
        "  for x in set(p_1):\n",
        "    if x == x[::-1]:\n",
        "      p_2.append(x)\n",
        "  return p_2\n",
        "\n",
        "\n",
        "print(isPalin_2(p_1))\n"
      ],
      "metadata": {
        "colab": {
          "base_uri": "https://localhost:8080/"
        },
        "id": "Spj03IbxVw_S",
        "outputId": "1b5c5498-2c92-40b7-8d7f-910e2dfce078"
      },
      "execution_count": 48,
      "outputs": [
        {
          "output_type": "stream",
          "name": "stdout",
          "text": [
            "['aaa', 'aba', 'bbb', 'bab']\n"
          ]
        }
      ]
    },
    {
      "cell_type": "code",
      "source": [
        "def is_palindrome(string):\n",
        "  if string == string[::-1]:\n",
        "    return True\n",
        "  else:\n",
        "    return False\n",
        "\n",
        "def palinromic_path(string, a, i, j, m, n):\n",
        "  if j < m - 1 or i < n - 1:\n",
        "    if i < n - 1:\n",
        "      palinromic_path(string + a[i][j], a, i + 1, j, m, n)\n",
        "    if j < m - 1:\n",
        "      palinromic_path(string + a[i][j], a, i, j + 1, m, n)\n",
        "\n",
        "  else:\n",
        "    string = string + a[n -1][m - 1]\n",
        "    if is_palindrome(string):\n",
        "      print(string)\n"
      ],
      "metadata": {
        "id": "EoPsjzAfWVFb"
      },
      "execution_count": 50,
      "outputs": []
    },
    {
      "cell_type": "code",
      "source": [
        "a = [['a', 'a', 'a'],\n",
        "     ['b', 'b', 'a'],\n",
        "     ['a', 'b', 'a']]\n",
        "\n",
        "print(palinromic_path(\"\", a, 0,0, 3,3))"
      ],
      "metadata": {
        "colab": {
          "base_uri": "https://localhost:8080/"
        },
        "id": "ulkUh63BYz57",
        "outputId": "9e80ad61-b860-497d-9213-f14e47068339"
      },
      "execution_count": 52,
      "outputs": [
        {
          "output_type": "stream",
          "name": "stdout",
          "text": [
            "ababa\n",
            "abbba\n",
            "aabaa\n",
            "aaaaa\n",
            "None\n"
          ]
        }
      ]
    },
    {
      "cell_type": "code",
      "source": [],
      "metadata": {
        "id": "z59DUysvZQsr"
      },
      "execution_count": null,
      "outputs": []
    }
  ]
}